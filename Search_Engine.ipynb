{
  "nbformat": 4,
  "nbformat_minor": 0,
  "metadata": {
    "colab": {
      "name": "Search_Engine.ipynb",
      "provenance": [],
      "collapsed_sections": []
    },
    "kernelspec": {
      "name": "python3",
      "display_name": "Python 3"
    },
    "language_info": {
      "name": "python"
    }
  },
  "cells": [
    {
      "cell_type": "markdown",
      "source": [
        "##Installing ElasticSearch"
      ],
      "metadata": {
        "id": "7SUXxBHPC74V"
      }
    },
    {
      "cell_type": "code",
      "execution_count": 1,
      "metadata": {
        "colab": {
          "base_uri": "https://localhost:8080/"
        },
        "id": "LkZmlJRh_GEw",
        "outputId": "761abb9d-ca54-4189-e3a5-55666e36d959"
      },
      "outputs": [
        {
          "output_type": "stream",
          "name": "stdout",
          "text": [
            "elasticsearch-oss-7.9.2-linux-x86_64.tar.gz: OK\n"
          ]
        }
      ],
      "source": [
        "!wget -q https://artifacts.elastic.co/downloads/elasticsearch/elasticsearch-oss-7.9.2-linux-x86_64.tar.gz\n",
        "!wget -q https://artifacts.elastic.co/downloads/elasticsearch/elasticsearch-oss-7.9.2-linux-x86_64.tar.gz.sha512\n",
        "!tar -xzf elasticsearch-oss-7.9.2-linux-x86_64.tar.gz\n",
        "!sudo chown -R daemon:daemon elasticsearch-7.9.2/\n",
        "!shasum -a 512 -c elasticsearch-oss-7.9.2-linux-x86_64.tar.gz.sha512 \n"
      ]
    },
    {
      "cell_type": "code",
      "source": [
        "!pip install elasticsearch==7.9.1 -q\n",
        "# !pip install elasticsearch==8.1.2 -q"
      ],
      "metadata": {
        "id": "1G_qFbss_eXi",
        "colab": {
          "base_uri": "https://localhost:8080/"
        },
        "outputId": "13bca119-6921-466c-ed98-57a6abb4fd4f"
      },
      "execution_count": 2,
      "outputs": [
        {
          "output_type": "stream",
          "name": "stdout",
          "text": [
            "\u001b[?25l\r\u001b[K     |█▌                              | 10 kB 22.3 MB/s eta 0:00:01\r\u001b[K     |███                             | 20 kB 14.0 MB/s eta 0:00:01\r\u001b[K     |████▌                           | 30 kB 10.0 MB/s eta 0:00:01\r\u001b[K     |██████                          | 40 kB 8.8 MB/s eta 0:00:01\r\u001b[K     |███████▌                        | 51 kB 4.7 MB/s eta 0:00:01\r\u001b[K     |█████████                       | 61 kB 5.5 MB/s eta 0:00:01\r\u001b[K     |██████████▌                     | 71 kB 5.5 MB/s eta 0:00:01\r\u001b[K     |████████████                    | 81 kB 5.4 MB/s eta 0:00:01\r\u001b[K     |█████████████▌                  | 92 kB 6.0 MB/s eta 0:00:01\r\u001b[K     |███████████████                 | 102 kB 5.2 MB/s eta 0:00:01\r\u001b[K     |████████████████▌               | 112 kB 5.2 MB/s eta 0:00:01\r\u001b[K     |██████████████████              | 122 kB 5.2 MB/s eta 0:00:01\r\u001b[K     |███████████████████▍            | 133 kB 5.2 MB/s eta 0:00:01\r\u001b[K     |█████████████████████           | 143 kB 5.2 MB/s eta 0:00:01\r\u001b[K     |██████████████████████▍         | 153 kB 5.2 MB/s eta 0:00:01\r\u001b[K     |████████████████████████        | 163 kB 5.2 MB/s eta 0:00:01\r\u001b[K     |█████████████████████████▍      | 174 kB 5.2 MB/s eta 0:00:01\r\u001b[K     |███████████████████████████     | 184 kB 5.2 MB/s eta 0:00:01\r\u001b[K     |████████████████████████████▍   | 194 kB 5.2 MB/s eta 0:00:01\r\u001b[K     |██████████████████████████████  | 204 kB 5.2 MB/s eta 0:00:01\r\u001b[K     |███████████████████████████████▍| 215 kB 5.2 MB/s eta 0:00:01\r\u001b[K     |████████████████████████████████| 219 kB 5.2 MB/s \n",
            "\u001b[?25h"
          ]
        }
      ]
    },
    {
      "cell_type": "code",
      "source": [
        "!pip freeze | grep elasticsearch"
      ],
      "metadata": {
        "id": "0hTlwJyj_lfs",
        "colab": {
          "base_uri": "https://localhost:8080/"
        },
        "outputId": "f3e1b182-914c-4c28-d359-ac5380cfff30"
      },
      "execution_count": 3,
      "outputs": [
        {
          "output_type": "stream",
          "name": "stdout",
          "text": [
            "elasticsearch==7.9.1\n"
          ]
        }
      ]
    },
    {
      "cell_type": "markdown",
      "source": [
        "Importing elasticsearch and other libraries"
      ],
      "metadata": {
        "id": "wtEXYaGPDK5Y"
      }
    },
    {
      "cell_type": "code",
      "source": [
        "from google.colab import drive\n",
        "from elasticsearch import Elasticsearch\n",
        "import os, glob\n",
        "import pandas as pd\n",
        "import numpy as np\n",
        "import time\n",
        "from sklearn.feature_extraction.text import CountVectorizer\n"
      ],
      "metadata": {
        "id": "_L-6fDAe_8EO"
      },
      "execution_count": 4,
      "outputs": []
    },
    {
      "cell_type": "code",
      "source": [
        "# Mounting google drive\n",
        "drive.mount('/content/drive')"
      ],
      "metadata": {
        "id": "-Dc7H4UFiPz5",
        "colab": {
          "base_uri": "https://localhost:8080/"
        },
        "outputId": "b6ad880d-e073-49ba-f10e-0440a9a47c09"
      },
      "execution_count": 5,
      "outputs": [
        {
          "output_type": "stream",
          "name": "stdout",
          "text": [
            "Mounted at /content/drive\n"
          ]
        }
      ]
    },
    {
      "cell_type": "markdown",
      "source": [
        "# Loading Data\n",
        "##Extracting prior_cases documents from google drive"
      ],
      "metadata": {
        "id": "Tv_HweHTDn_5"
      }
    },
    {
      "cell_type": "code",
      "source": [
        "path= '/content/drive/MyDrive/Data/Prior_Cases/*.txt'\n",
        "files = glob.glob(path)\n",
        "len(files)"
      ],
      "metadata": {
        "colab": {
          "base_uri": "https://localhost:8080/"
        },
        "id": "9Shm3in1AG4T",
        "outputId": "4dcdc2fe-c506-4a5d-818d-2d28d456e3ad"
      },
      "execution_count": 6,
      "outputs": [
        {
          "output_type": "execute_result",
          "data": {
            "text/plain": [
              "2006"
            ]
          },
          "metadata": {},
          "execution_count": 6
        }
      ]
    },
    {
      "cell_type": "code",
      "source": [
        "# Creating a table like structure with first value as file name and second value as text\n",
        "data=[]\n",
        "for file in files:\n",
        "  f = open(file, 'r')\n",
        "  textfile = f.read()\n",
        "  case_name = file.split('/')[-1]\n",
        "  data.append([case_name, textfile])\n",
        "  f.close()\n"
      ],
      "metadata": {
        "id": "OTIlDryBG62b"
      },
      "execution_count": 7,
      "outputs": []
    },
    {
      "cell_type": "markdown",
      "source": [
        "Creating a dataframe from the above table"
      ],
      "metadata": {
        "id": "KqXEJrqlEQ2p"
      }
    },
    {
      "cell_type": "code",
      "source": [
        "df = pd.DataFrame(data,columns=['case_id', 'Case_Text'])\n",
        "df"
      ],
      "metadata": {
        "id": "wD4BO1SBtzSJ",
        "colab": {
          "base_uri": "https://localhost:8080/",
          "height": 424
        },
        "outputId": "ff381f78-6ff6-4076-bb39-aafb70ab65a3"
      },
      "execution_count": 8,
      "outputs": [
        {
          "output_type": "execute_result",
          "data": {
            "text/plain": [
              "                  case_id                                          Case_Text\n",
              "0     prior_case_1188.txt   [1988] INSC 160; AIR 1988 SC 1417; 1988 (1) S...\n",
              "1     prior_case_0916.txt   INSC 248; AIR 1975 SC 230; 1975 (2) SCR 811; ...\n",
              "2     prior_case_1987.txt   1973 SC 2622; 1974 (1) SCR 489; 1973 (2) SCC ...\n",
              "3     prior_case_0086.txt   CLOTH AND GENERAL MILLS LTD. [1969] INSC 301;...\n",
              "4     prior_case_1997.txt   November 1968)\\n08/11/1968 SHAH, J.C.\\nSHAH, ...\n",
              "...                   ...                                                ...\n",
              "2001  prior_case_1333.txt   INSC 144; AIR 1964 SC 1813; 1964 (8) SCR 18 (...\n",
              "2002  prior_case_0132.txt   INSC 41; AIR 1955 SC 765; 1955 (2) SCR 483 (2...\n",
              "2003  prior_case_1521.txt   October 1956)\\n04/10/1956 AIYYAR, T.L. VENKAT...\n",
              "2004  prior_case_1537.txt   ORS [1987] INSC 15; AIR 1987 SC 490; 1987 (1)...\n",
              "2005  prior_case_1538.txt   2166; 1986 (3) SCR 946; 1986 (4) SCC 667; 198...\n",
              "\n",
              "[2006 rows x 2 columns]"
            ],
            "text/html": [
              "\n",
              "  <div id=\"df-21b6e58b-1ba3-4b13-af57-ff8a3dadc7ba\">\n",
              "    <div class=\"colab-df-container\">\n",
              "      <div>\n",
              "<style scoped>\n",
              "    .dataframe tbody tr th:only-of-type {\n",
              "        vertical-align: middle;\n",
              "    }\n",
              "\n",
              "    .dataframe tbody tr th {\n",
              "        vertical-align: top;\n",
              "    }\n",
              "\n",
              "    .dataframe thead th {\n",
              "        text-align: right;\n",
              "    }\n",
              "</style>\n",
              "<table border=\"1\" class=\"dataframe\">\n",
              "  <thead>\n",
              "    <tr style=\"text-align: right;\">\n",
              "      <th></th>\n",
              "      <th>case_id</th>\n",
              "      <th>Case_Text</th>\n",
              "    </tr>\n",
              "  </thead>\n",
              "  <tbody>\n",
              "    <tr>\n",
              "      <th>0</th>\n",
              "      <td>prior_case_1188.txt</td>\n",
              "      <td>[1988] INSC 160; AIR 1988 SC 1417; 1988 (1) S...</td>\n",
              "    </tr>\n",
              "    <tr>\n",
              "      <th>1</th>\n",
              "      <td>prior_case_0916.txt</td>\n",
              "      <td>INSC 248; AIR 1975 SC 230; 1975 (2) SCR 811; ...</td>\n",
              "    </tr>\n",
              "    <tr>\n",
              "      <th>2</th>\n",
              "      <td>prior_case_1987.txt</td>\n",
              "      <td>1973 SC 2622; 1974 (1) SCR 489; 1973 (2) SCC ...</td>\n",
              "    </tr>\n",
              "    <tr>\n",
              "      <th>3</th>\n",
              "      <td>prior_case_0086.txt</td>\n",
              "      <td>CLOTH AND GENERAL MILLS LTD. [1969] INSC 301;...</td>\n",
              "    </tr>\n",
              "    <tr>\n",
              "      <th>4</th>\n",
              "      <td>prior_case_1997.txt</td>\n",
              "      <td>November 1968)\\n08/11/1968 SHAH, J.C.\\nSHAH, ...</td>\n",
              "    </tr>\n",
              "    <tr>\n",
              "      <th>...</th>\n",
              "      <td>...</td>\n",
              "      <td>...</td>\n",
              "    </tr>\n",
              "    <tr>\n",
              "      <th>2001</th>\n",
              "      <td>prior_case_1333.txt</td>\n",
              "      <td>INSC 144; AIR 1964 SC 1813; 1964 (8) SCR 18 (...</td>\n",
              "    </tr>\n",
              "    <tr>\n",
              "      <th>2002</th>\n",
              "      <td>prior_case_0132.txt</td>\n",
              "      <td>INSC 41; AIR 1955 SC 765; 1955 (2) SCR 483 (2...</td>\n",
              "    </tr>\n",
              "    <tr>\n",
              "      <th>2003</th>\n",
              "      <td>prior_case_1521.txt</td>\n",
              "      <td>October 1956)\\n04/10/1956 AIYYAR, T.L. VENKAT...</td>\n",
              "    </tr>\n",
              "    <tr>\n",
              "      <th>2004</th>\n",
              "      <td>prior_case_1537.txt</td>\n",
              "      <td>ORS [1987] INSC 15; AIR 1987 SC 490; 1987 (1)...</td>\n",
              "    </tr>\n",
              "    <tr>\n",
              "      <th>2005</th>\n",
              "      <td>prior_case_1538.txt</td>\n",
              "      <td>2166; 1986 (3) SCR 946; 1986 (4) SCC 667; 198...</td>\n",
              "    </tr>\n",
              "  </tbody>\n",
              "</table>\n",
              "<p>2006 rows × 2 columns</p>\n",
              "</div>\n",
              "      <button class=\"colab-df-convert\" onclick=\"convertToInteractive('df-21b6e58b-1ba3-4b13-af57-ff8a3dadc7ba')\"\n",
              "              title=\"Convert this dataframe to an interactive table.\"\n",
              "              style=\"display:none;\">\n",
              "        \n",
              "  <svg xmlns=\"http://www.w3.org/2000/svg\" height=\"24px\"viewBox=\"0 0 24 24\"\n",
              "       width=\"24px\">\n",
              "    <path d=\"M0 0h24v24H0V0z\" fill=\"none\"/>\n",
              "    <path d=\"M18.56 5.44l.94 2.06.94-2.06 2.06-.94-2.06-.94-.94-2.06-.94 2.06-2.06.94zm-11 1L8.5 8.5l.94-2.06 2.06-.94-2.06-.94L8.5 2.5l-.94 2.06-2.06.94zm10 10l.94 2.06.94-2.06 2.06-.94-2.06-.94-.94-2.06-.94 2.06-2.06.94z\"/><path d=\"M17.41 7.96l-1.37-1.37c-.4-.4-.92-.59-1.43-.59-.52 0-1.04.2-1.43.59L10.3 9.45l-7.72 7.72c-.78.78-.78 2.05 0 2.83L4 21.41c.39.39.9.59 1.41.59.51 0 1.02-.2 1.41-.59l7.78-7.78 2.81-2.81c.8-.78.8-2.07 0-2.86zM5.41 20L4 18.59l7.72-7.72 1.47 1.35L5.41 20z\"/>\n",
              "  </svg>\n",
              "      </button>\n",
              "      \n",
              "  <style>\n",
              "    .colab-df-container {\n",
              "      display:flex;\n",
              "      flex-wrap:wrap;\n",
              "      gap: 12px;\n",
              "    }\n",
              "\n",
              "    .colab-df-convert {\n",
              "      background-color: #E8F0FE;\n",
              "      border: none;\n",
              "      border-radius: 50%;\n",
              "      cursor: pointer;\n",
              "      display: none;\n",
              "      fill: #1967D2;\n",
              "      height: 32px;\n",
              "      padding: 0 0 0 0;\n",
              "      width: 32px;\n",
              "    }\n",
              "\n",
              "    .colab-df-convert:hover {\n",
              "      background-color: #E2EBFA;\n",
              "      box-shadow: 0px 1px 2px rgba(60, 64, 67, 0.3), 0px 1px 3px 1px rgba(60, 64, 67, 0.15);\n",
              "      fill: #174EA6;\n",
              "    }\n",
              "\n",
              "    [theme=dark] .colab-df-convert {\n",
              "      background-color: #3B4455;\n",
              "      fill: #D2E3FC;\n",
              "    }\n",
              "\n",
              "    [theme=dark] .colab-df-convert:hover {\n",
              "      background-color: #434B5C;\n",
              "      box-shadow: 0px 1px 3px 1px rgba(0, 0, 0, 0.15);\n",
              "      filter: drop-shadow(0px 1px 2px rgba(0, 0, 0, 0.3));\n",
              "      fill: #FFFFFF;\n",
              "    }\n",
              "  </style>\n",
              "\n",
              "      <script>\n",
              "        const buttonEl =\n",
              "          document.querySelector('#df-21b6e58b-1ba3-4b13-af57-ff8a3dadc7ba button.colab-df-convert');\n",
              "        buttonEl.style.display =\n",
              "          google.colab.kernel.accessAllowed ? 'block' : 'none';\n",
              "\n",
              "        async function convertToInteractive(key) {\n",
              "          const element = document.querySelector('#df-21b6e58b-1ba3-4b13-af57-ff8a3dadc7ba');\n",
              "          const dataTable =\n",
              "            await google.colab.kernel.invokeFunction('convertToInteractive',\n",
              "                                                     [key], {});\n",
              "          if (!dataTable) return;\n",
              "\n",
              "          const docLinkHtml = 'Like what you see? Visit the ' +\n",
              "            '<a target=\"_blank\" href=https://colab.research.google.com/notebooks/data_table.ipynb>data table notebook</a>'\n",
              "            + ' to learn more about interactive tables.';\n",
              "          element.innerHTML = '';\n",
              "          dataTable['output_type'] = 'display_data';\n",
              "          await google.colab.output.renderOutput(dataTable, element);\n",
              "          const docLink = document.createElement('div');\n",
              "          docLink.innerHTML = docLinkHtml;\n",
              "          element.appendChild(docLink);\n",
              "        }\n",
              "      </script>\n",
              "    </div>\n",
              "  </div>\n",
              "  "
            ]
          },
          "metadata": {},
          "execution_count": 8
        }
      ]
    },
    {
      "cell_type": "markdown",
      "source": [
        "# Data Cleaning and Pre-processing\n",
        "## Removing digits punctuation and less than 4 character words"
      ],
      "metadata": {
        "id": "W02ervBsEd5J"
      }
    },
    {
      "cell_type": "code",
      "source": [
        "df['Case_Text'] = df['Case_Text'].str.replace('\\d+', '') # for digits\n",
        "df['Case_Text'] = df['Case_Text'].str.replace(r'(\\b\\w{1,3}\\b)', '') # for words\n",
        "df['Case_Text'] = df['Case_Text'].str.replace('[^\\w\\s]', '') # for punctuation\n",
        "df['Case_Text'] = df['Case_Text'].str.replace('_', '') # for underscores\n",
        "\n",
        "df"
      ],
      "metadata": {
        "id": "75C1sRtkthMs",
        "colab": {
          "base_uri": "https://localhost:8080/",
          "height": 532
        },
        "outputId": "ddd61b4e-f4df-49f5-fb9a-d9ab3d481e5d"
      },
      "execution_count": 9,
      "outputs": [
        {
          "output_type": "stream",
          "name": "stderr",
          "text": [
            "/usr/local/lib/python3.7/dist-packages/ipykernel_launcher.py:1: FutureWarning: The default value of regex will change from True to False in a future version.\n",
            "  \"\"\"Entry point for launching an IPython kernel.\n",
            "/usr/local/lib/python3.7/dist-packages/ipykernel_launcher.py:2: FutureWarning: The default value of regex will change from True to False in a future version.\n",
            "  \n",
            "/usr/local/lib/python3.7/dist-packages/ipykernel_launcher.py:3: FutureWarning: The default value of regex will change from True to False in a future version.\n",
            "  This is separate from the ipykernel package so we can avoid doing imports until\n"
          ]
        },
        {
          "output_type": "execute_result",
          "data": {
            "text/plain": [
              "                  case_id                                          Case_Text\n",
              "0     prior_case_1188.txt    INSC        Suppl            SCALE    \\nVENK...\n",
              "1     prior_case_0916.txt   INSC               November \\nMATHEW KUTTYIL ...\n",
              "2     prior_case_1987.txt               August \\nKRISHNAIYER \\nKRISHNAIYE...\n",
              "3     prior_case_0086.txt   CLOTH  GENERAL MILLS   INSC               Oct...\n",
              "4     prior_case_1997.txt   November \\n SHAH \\nSHAH \\nRAMASWAMI \\nGROVER ...\n",
              "...                   ...                                                ...\n",
              "2001  prior_case_1333.txt   INSC           April \\n SUBBARAO \\nSUBBARAO \\...\n",
              "2002  prior_case_0132.txt   INSC           September \\n BHAGWATI NATWARLA...\n",
              "2003  prior_case_1521.txt   October \\n AIYYAR  VENKATARAMA AIYYAR  VENKAT...\n",
              "2004  prior_case_1537.txt     INSC                    SCALE   January \\nV...\n",
              "2005  prior_case_1538.txt                 SCALE   September \\nTHAKKAR   T...\n",
              "\n",
              "[2006 rows x 2 columns]"
            ],
            "text/html": [
              "\n",
              "  <div id=\"df-2c47faab-208a-493b-a38f-ba70a8afd484\">\n",
              "    <div class=\"colab-df-container\">\n",
              "      <div>\n",
              "<style scoped>\n",
              "    .dataframe tbody tr th:only-of-type {\n",
              "        vertical-align: middle;\n",
              "    }\n",
              "\n",
              "    .dataframe tbody tr th {\n",
              "        vertical-align: top;\n",
              "    }\n",
              "\n",
              "    .dataframe thead th {\n",
              "        text-align: right;\n",
              "    }\n",
              "</style>\n",
              "<table border=\"1\" class=\"dataframe\">\n",
              "  <thead>\n",
              "    <tr style=\"text-align: right;\">\n",
              "      <th></th>\n",
              "      <th>case_id</th>\n",
              "      <th>Case_Text</th>\n",
              "    </tr>\n",
              "  </thead>\n",
              "  <tbody>\n",
              "    <tr>\n",
              "      <th>0</th>\n",
              "      <td>prior_case_1188.txt</td>\n",
              "      <td>INSC        Suppl            SCALE    \\nVENK...</td>\n",
              "    </tr>\n",
              "    <tr>\n",
              "      <th>1</th>\n",
              "      <td>prior_case_0916.txt</td>\n",
              "      <td>INSC               November \\nMATHEW KUTTYIL ...</td>\n",
              "    </tr>\n",
              "    <tr>\n",
              "      <th>2</th>\n",
              "      <td>prior_case_1987.txt</td>\n",
              "      <td>August \\nKRISHNAIYER \\nKRISHNAIYE...</td>\n",
              "    </tr>\n",
              "    <tr>\n",
              "      <th>3</th>\n",
              "      <td>prior_case_0086.txt</td>\n",
              "      <td>CLOTH  GENERAL MILLS   INSC               Oct...</td>\n",
              "    </tr>\n",
              "    <tr>\n",
              "      <th>4</th>\n",
              "      <td>prior_case_1997.txt</td>\n",
              "      <td>November \\n SHAH \\nSHAH \\nRAMASWAMI \\nGROVER ...</td>\n",
              "    </tr>\n",
              "    <tr>\n",
              "      <th>...</th>\n",
              "      <td>...</td>\n",
              "      <td>...</td>\n",
              "    </tr>\n",
              "    <tr>\n",
              "      <th>2001</th>\n",
              "      <td>prior_case_1333.txt</td>\n",
              "      <td>INSC           April \\n SUBBARAO \\nSUBBARAO \\...</td>\n",
              "    </tr>\n",
              "    <tr>\n",
              "      <th>2002</th>\n",
              "      <td>prior_case_0132.txt</td>\n",
              "      <td>INSC           September \\n BHAGWATI NATWARLA...</td>\n",
              "    </tr>\n",
              "    <tr>\n",
              "      <th>2003</th>\n",
              "      <td>prior_case_1521.txt</td>\n",
              "      <td>October \\n AIYYAR  VENKATARAMA AIYYAR  VENKAT...</td>\n",
              "    </tr>\n",
              "    <tr>\n",
              "      <th>2004</th>\n",
              "      <td>prior_case_1537.txt</td>\n",
              "      <td>INSC                    SCALE   January \\nV...</td>\n",
              "    </tr>\n",
              "    <tr>\n",
              "      <th>2005</th>\n",
              "      <td>prior_case_1538.txt</td>\n",
              "      <td>SCALE   September \\nTHAKKAR   T...</td>\n",
              "    </tr>\n",
              "  </tbody>\n",
              "</table>\n",
              "<p>2006 rows × 2 columns</p>\n",
              "</div>\n",
              "      <button class=\"colab-df-convert\" onclick=\"convertToInteractive('df-2c47faab-208a-493b-a38f-ba70a8afd484')\"\n",
              "              title=\"Convert this dataframe to an interactive table.\"\n",
              "              style=\"display:none;\">\n",
              "        \n",
              "  <svg xmlns=\"http://www.w3.org/2000/svg\" height=\"24px\"viewBox=\"0 0 24 24\"\n",
              "       width=\"24px\">\n",
              "    <path d=\"M0 0h24v24H0V0z\" fill=\"none\"/>\n",
              "    <path d=\"M18.56 5.44l.94 2.06.94-2.06 2.06-.94-2.06-.94-.94-2.06-.94 2.06-2.06.94zm-11 1L8.5 8.5l.94-2.06 2.06-.94-2.06-.94L8.5 2.5l-.94 2.06-2.06.94zm10 10l.94 2.06.94-2.06 2.06-.94-2.06-.94-.94-2.06-.94 2.06-2.06.94z\"/><path d=\"M17.41 7.96l-1.37-1.37c-.4-.4-.92-.59-1.43-.59-.52 0-1.04.2-1.43.59L10.3 9.45l-7.72 7.72c-.78.78-.78 2.05 0 2.83L4 21.41c.39.39.9.59 1.41.59.51 0 1.02-.2 1.41-.59l7.78-7.78 2.81-2.81c.8-.78.8-2.07 0-2.86zM5.41 20L4 18.59l7.72-7.72 1.47 1.35L5.41 20z\"/>\n",
              "  </svg>\n",
              "      </button>\n",
              "      \n",
              "  <style>\n",
              "    .colab-df-container {\n",
              "      display:flex;\n",
              "      flex-wrap:wrap;\n",
              "      gap: 12px;\n",
              "    }\n",
              "\n",
              "    .colab-df-convert {\n",
              "      background-color: #E8F0FE;\n",
              "      border: none;\n",
              "      border-radius: 50%;\n",
              "      cursor: pointer;\n",
              "      display: none;\n",
              "      fill: #1967D2;\n",
              "      height: 32px;\n",
              "      padding: 0 0 0 0;\n",
              "      width: 32px;\n",
              "    }\n",
              "\n",
              "    .colab-df-convert:hover {\n",
              "      background-color: #E2EBFA;\n",
              "      box-shadow: 0px 1px 2px rgba(60, 64, 67, 0.3), 0px 1px 3px 1px rgba(60, 64, 67, 0.15);\n",
              "      fill: #174EA6;\n",
              "    }\n",
              "\n",
              "    [theme=dark] .colab-df-convert {\n",
              "      background-color: #3B4455;\n",
              "      fill: #D2E3FC;\n",
              "    }\n",
              "\n",
              "    [theme=dark] .colab-df-convert:hover {\n",
              "      background-color: #434B5C;\n",
              "      box-shadow: 0px 1px 3px 1px rgba(0, 0, 0, 0.15);\n",
              "      filter: drop-shadow(0px 1px 2px rgba(0, 0, 0, 0.3));\n",
              "      fill: #FFFFFF;\n",
              "    }\n",
              "  </style>\n",
              "\n",
              "      <script>\n",
              "        const buttonEl =\n",
              "          document.querySelector('#df-2c47faab-208a-493b-a38f-ba70a8afd484 button.colab-df-convert');\n",
              "        buttonEl.style.display =\n",
              "          google.colab.kernel.accessAllowed ? 'block' : 'none';\n",
              "\n",
              "        async function convertToInteractive(key) {\n",
              "          const element = document.querySelector('#df-2c47faab-208a-493b-a38f-ba70a8afd484');\n",
              "          const dataTable =\n",
              "            await google.colab.kernel.invokeFunction('convertToInteractive',\n",
              "                                                     [key], {});\n",
              "          if (!dataTable) return;\n",
              "\n",
              "          const docLinkHtml = 'Like what you see? Visit the ' +\n",
              "            '<a target=\"_blank\" href=https://colab.research.google.com/notebooks/data_table.ipynb>data table notebook</a>'\n",
              "            + ' to learn more about interactive tables.';\n",
              "          element.innerHTML = '';\n",
              "          dataTable['output_type'] = 'display_data';\n",
              "          await google.colab.output.renderOutput(dataTable, element);\n",
              "          const docLink = document.createElement('div');\n",
              "          docLink.innerHTML = docLinkHtml;\n",
              "          element.appendChild(docLink);\n",
              "        }\n",
              "      </script>\n",
              "    </div>\n",
              "  </div>\n",
              "  "
            ]
          },
          "metadata": {},
          "execution_count": 9
        }
      ]
    },
    {
      "cell_type": "markdown",
      "source": [
        "Creating a list corpus having all the documents"
      ],
      "metadata": {
        "id": "CoVJ9SB0EqAR"
      }
    },
    {
      "cell_type": "code",
      "source": [
        "corpus=[]\n",
        "corpus = df.loc[:,'Case_Text'].tolist()\n",
        "corpus[0]"
      ],
      "metadata": {
        "id": "bS-roLkmgm9E",
        "colab": {
          "base_uri": "https://localhost:8080/",
          "height": 126
        },
        "outputId": "818c5548-8a01-48c1-8041-efcc75c5b17a"
      },
      "execution_count": 13,
      "outputs": [
        {
          "output_type": "execute_result",
          "data": {
            "text/plain": [
              "'  INSC        Suppl            SCALE    \\nVENKATACHALLIAH   VENKATACHALLIAH   PATHAK  \\nCITATION      Supl             SCALE \\nWealth   Sections   LoanTermed  assessee  Quarazahasana held includible  wealth  assessee  liable  \\nWords  Phrases QuarazaHasanaMeaning \\n assesseerespondent  advanced       partner Faizullabhai Mandlawala which   employed   part  Mandlawala capital  their partnership firm  assessee sought  have  value  that loan excluded from  wealth   claim that this loan  what  known  Muslim   QuarazaHasana  debt  good faith  goodwill carrying with   legal obligation   part   debtor  repay  correspondingly  right   part  assessee  expect much less enforce  repayment This claim  supported  debtor declaration that    received   without  obligation  without  rate  interest  without  consideration  Wealth  Officer   Appellate Assistant Commissioner found  difficult  accept this claim  Appellate Tribunal however accepting  assessee claim held that  loan partook   character  Quaraza Hasana with  special incidents  known  Muslim \\nthat  transaction    good faith  goodwill  lacked  concomitants   legally enforceable claim  repayment  that therefore  amount    debt    assessee  High Court upheld this view\\n  contended  behalf   Revenue  that  Tribunal  well   High Court erroneously accepted  hypothetical incidents   supposedly peculiar institution   personal    Muslims  rule  tenet  Muslim  respecting which   having been established\\n that both  Tribunal   High Court while rightly noticing that  special incidents  what  called QuarazaHasana   been established gave  benefit  doubt     very existence  this institution  QuarazaHasana   assessee   that  reliance   High Court   incidents  Hibashartiwaz  form  Mussalman gift  misplaced  this kind  gift expressly stipulated contemporaneous liability   return\\nCounsel   assessee sought  support  conclusions   High Court   alternative  independent ground that   events  entering into this transaction  parties must  held   have intended  create  legal obligation between them  that therefore  debt remained  debt  honour   contended that  agreement would   itself yield legal obligations unless    which could reasonably  regarded  having been made  contemplation  creating legal consequences  that  this case  parties must  held  have excluded  contemplation  legal consequences flowing from  transaction\\nAllowing  appeal   \\nHELD    authoritative text   principle  precedent recognised  Muslim   cited before  High Court  this Court establishing  nature content  incidents   institution  QuarazaHasana    possible       other whether Courts could recognise   upon such  rule  Muslim  much less afford relief   proponent  that rule \\n    concept  Qard Hasan   same  that  QuarazaHasana  obligation   part   debtor   loan  repay   right   creditor  repayment were excluded  only incident appeared   that   interestfree    reliance   High Court   concept  mussalman gift HibashartIwaz   help  assessee because this kind  gift stipulated liability  return    debt though  passive debt would require   treated    payable   assessee     assessee case that  debt    irrecoverable\\n debtor declaration itself established  existence\\n  Where    instant case   implications  large financial obligations were sought        burden  heavy   assessee  establish that what would otherwise   usual incidents   transaction were excluded from contemplation    parties Here  partner  lent  large    other   utilized  capital   partnership venture\\n transaction    context   commercial venture\\n presumption therefore  that legal obligations were intended  onus    parties asserting  absence  legal obligations  test   subjective   parties   objective      enforceability  debt  pleaded    part  what  permissible    contracts  specifically  some inexorable incident   particular tenet peculiar   characteristic   personal    Muslims That  having been established  appeal could  made   principle  permissibility  exclusion  legal obligations     contracts   instant case  admitted existence   debt implied  obligation  repay  legal    remedy  pleaded What      unsubstantiated   existence   remedy itself  loan would therefore become includible   wealth   assessee  Rose  Franc    Crompton  Bros      Edwards  Skyways    \\nBahamas  Refining   Kristiansands Tankraderie   others  Shell International Marine   Lloyds  Reports  referred \\nCIVIL APPELLATE JURISDICTION Civil Appeal      \\nFrom  Judgment  Order dated    High Court  Madhya Pradesh  Miscellaneous Civil Case    \\n Ahuja   Subhashini      Appellant\\n Ramachandran Vinek Gambhir Sanjay Sareen   Gambhir   Respondents\\n Judgment   Court  delivered  VENKATACHALIAH  These appeals  special leave   Commissioner  Wealth Bhopal arise    opinion rendered   High Court  Madhya Pradesh Bhopal  fourconsolidated wealth references under Section    Wealth   They raise  short  interesting question touching   incidents  what  described   QuarazaHasana said    transaction known   peculiar   personal    muslims\\n  matters arise    proceedings concerning  assessment  wealth   respondent Abdul Hussain Mulla Mohammad   assessee   four assessmentyears   \\n  originalreturns   assessment year  relevant   valuation date   assessee filed  return   wealth   which included     representing  principal value   loan advanced   assessee   certain Faizullabhai Mandlawala Sidhpur Both  assessee   said Faizullabhai Mandlawala were partners   firm carrying  business under  name  style Rising  Flour   Mills  Ujjain  borrower  employed this   part   capital   firm   revised return filed    assessee however sought  have  value  that loan excluded from  wealth   claim that this loan  what  known  Muslim   QuarazaHasana debt  good faith  goodwill carrying with   legal obligation   part   debtor  repay  correspondingly  right   part   assessee  expect much less enforce  repayment  claim   inclusion  this asset   wealth   assessee  sought   supported   declaration dated  furnished   debtor that    received   without  obligation  without  rate  interest  without  consideration Reliance  also placed  some extracts   Quran said  relate  this transaction\\nBoth  Wealth Officer   Appellate Assistant Commissioner   appeal found  difficult  accept this claim  accordingly brought this        respective valuation dates\\nHowever  Income Appellate Tribunal Indore Bench accepting  assessee appeals held that  loan partook   character  QuarazaHasana with  special incidents  known  Muslim  that  transaction    good faith  goodwill  lacked  concomitants   legally enforceable claim  repayment  that therefore  amount    debt    assessee\\n  High Court before which  Tribunal   instance    Revenue stated  case  referred  questions    opinion upheld  view that  commended itself   Tribunal  answered  questions against  Revenue   questions  referred were\\n Whether   facts    circumstances   case  Tribunal  justified  holding that  amount   lakhs cannot  included   total assets   assessee  Whether   facts    circumstances   case  Tribunal  justified  accepting that  amount   lakhs    nature  Quaraza Hasana particularly when     lakhs  been repaid\\n Shri  Ahuja learned counsel   Revenue contended that  Tribunal  well   High Court fell into  serious error  their acceptance   hypothetical incidents   supposedly peculiar institution   personal    muslims respecting which nothing tangible    evidence    existence  such rule  tenet  muslim   forthcoming Learned counsel invited  particular attention   following observations   Tribunal\\n learned counsel   assessee \\nChitale  also stated before  that    come across  judicial decision defining  describing  exact characteristics   expression QuarazaHasana   become across  discussion  this matter     treaties  Mohammedan    therefore satisfied that   facts  circumstances  this case  amount   lakhs cannot  treated   debt    assessee   same cannot  included   total asset   assessee Learned counsel submitted that  inference drawn does  only  flow from  premise  would clearly  antithetical   concept  QuarazaHasana   peculiar incidents attributed     established  plea that there   debt   there   obligation  repay becomes mutually contradictory  regard   subsidiary  supporting reasons   acceptance   Tribunal  hold that there   debt which could  said     owing   assessee  learned counsel invited  attention   following reasoning   Tribunal\\n Faizullabhai   declaration dated   stated that this amount  received   without  obligation  without  rate  interest  without  consideration\\nTherefore  question that arises  consideration  whether under this peculiar circumstance    said that this    lakhs which  given   assessee  Faizullabhai prior    which there   document   which there   obligation  repay   treated   debt    assessee\\nLearned counsel submitted that neither  circumstance that  loan  advanced prior     self serving declaration   borrower  even that  repayment  been made during  accounting years  earlier would  themselves detract from  existence  incidents   debt which  otherwise admitted Learned counsel pointed  that admittedly        been repaid   borrower   assessee\\nLearned counsel said that both  Tribunal   High Court while rightly noticing that  special incidents  what  called QuarazaHasana   been established however  excluding   from  wealth gave  benefit  this doubt    very existence  this institution  QuarazaHasana   assessee\\n Referring   reliance   High Court   incidents Hiba shartevaz learned counsel submitted that  reasoning   High Court based  this form   mussalman gift  destructive   assessee case inasmuch   kind  gift envisaged  HibaShart Evaz expressly stipulated contemporaneous liability   return\\nShri Ramachandran learned counsel   assessee sought  support  conlusion   High Court also another independent ground that   events  entering into this transaction  parties   intend  create  legal obligations between them  that therefore  debt remained  debt  honour  will presently refer   possibilities  this contention   facts  this case\\n  authoritative texts   principle  precedent recognised  Muslim   cited before  High Court  show that  transaction  this nature  incidents  known   recognised   personal    Muslims   material  placed before  High Court  before   establish  content  incidents  this  idea  what  referred  QuarazaHusana    possible       other whether Courts  recognise   upon such  rule  Muslim  much less afford relief   proponent  that rule\\nIndeed literature   Principles  Islamic Banking Unlawful gain  legitimate profit  Islamic  Nibil  Saleh Cambridge University Press  does  appear though    want   understood  have pronounced   subject finally  support  particular incidents   existence   element  repayability attributed  this kind  loans Learned author says that Sharia distinguishes between  types  loans   Ariya  loan   which transfers  usufruct   property temporarily  gratuitously while ownership   loanedobject remains with  lender   second  qard  regard  this second type  loan  qard  author says  pages   \\n second type  loan recognished  Sharia   qard which involves  loan  fungible commodities that  goods which   estimated  replaced according  weight measure  number  this case  borrower undertakes  return  equivalent  likes  that   received  without  premium   property which would  course  construed  interest\\n most likely object   qard loan would  currency  other standard means  exchage emphasis supplied   question whether  lender  Qard  entitled  derive  advantage from   learned author refers   views   different schools namely Hanafia Hanbalis Malikis Shafi  Ibadis  pages   \\nAgain  learned author refers  QardHasan  interest free loan Explaining  incidents  author says\\nQard Hasan means  interestfree loan which   only loan permitted  Sharia principles  have seen previously that  only  interest   charged   lent capital   advantage whatsoever should  derived   lender from  loan  course each school      interpretation  what constitutes advantage  that  have already seen  detail \\n  wonder  lending could   business  proposition once interest  abolished  emphasis supplied  page   learned author also proceeds  enumerate  circumstances  which  Islamic Financial Institutions  advised  make   Qard Hasan\\n From what  gatherable from  author observations course   concept  Qard Hasan   same  that QuarazaHasana obligation   part   debtor   loan  repay   right   creditor  repayment  excluded  only incident appears   that   interestfree\\nHowever    want   understood  have pronounced  this question finally  neither side  produced  relied upon  literature  Islamic    point  extracts   Quran relied upon merely calls some loan  beatific loan which blesses  giver  incidents   transactions   found   passages\\n  does  reliance   High Court   well recognised institution  Muslim   HibaShart Iwaz advance  case   assessee  further  Principles  Mohammadan  Mulla  Edition page  this kind  gift  explained\\nWhere  gift  made with  stipulation shart   return   called defined  older jurists  Hiba shartIwaz  that   former iwaz proceeds voluntarily from  donee   gift while   latter   expressly stipulated  between  parties Referring  what distinguishes HibaIwaz from HibashartIwaz  learned author Syed Ameer   Mahommadan   Edition     excerpting from Fatawai Alamgiri says\\nIwaz  consideration    kinds  which  subsequent   contract  gift  other which  conditioned     other kind  consideration  expressly stipu  lated   contract  when once   received  transaction acquired  legal character   sale  modern hibashart iwaz  unquestionably sprung from  above Then   last analysis what follows   logical consequence  that  debt though  passive debt would require   treated    payable   assessee     assessee case that  debt     irrecoverable debt  declaration   debtor itself establishes  existence\\n  then Shri Ramachandran anticipating  inherent infirmity   claim based  QuarazaHasana sought  treat    resourceful argument that  conclusion   High Court    events supportable   independent ground that  agreement will   itself yield legal obligations unless    which  reasonably  regarded  having been made between  parties  contemplation  legal consequences  that   present case  parties  excluded  contemplation  legal consequence flowing from  transactions This proposition  stated  Chitty  Contracts  \\nVolume  para  thus\\n agreement even though   supported  consideration   binding   contract    made without  intention  creating legal relations  course   case  ordinary commercial transactions    normally necessary  prove that  parties  fact intended  create legal relations emphasis supplied Learned counsel cited certain cases  illustrate  point\\n Rose  Frank    Crompton  Bros      Sccutton  said\\n    quite possible  parties  come   agreement  accepting  proposal with  result that  agreement concluded does  give rise  legal relations  reason  this  that  parties   intend that their agreement shall give rise  legal relations This intention   implied from  subject matter   agreement    also  expressed   parties  social  family relations such  intention  readily implied while   business matters  opposite result would ordinarily follow   page  Atkin  said\\n  create  contract there must   common intention   parties  enter into legal obligations mutually communicated expressly  impliedly  novelty   clause   contract relied upon  that case   miss  learned Judge notice  observed\\n  have never seen such  clause before    nothing necessarily absurd  business  seeking  regulate their business relations  mutual promises which fall short  legal obligations  rest  obligations  either honour  selfinterest  perhaps both  This contention  Shri Ramachandran    this form urged before  High Court     case   parties that apart altogether from  Rule  Muslim  relied upon they  agreed otherwise also that  legal obligation should arise\\n  contention   doubt  possibilities\\n where  here   implications  large financial obligations  sought        burden  heavy   assessee  establish that what would otherwise   incidents   transaction were excluded from contemplation   parties Here  partner  lent  large    other   utilised  capital   partnership venture  transaction    context   commercial venture  presumption  that legal obligations  intended  onus    parties asserting  absence  legal obligations   test   subjective   parties    objective \\nChitty says para  supra\\n  onus  proving that there   such intention    party  asserts that  legal effect  intended   onus   heavy  Where such evidence  adduced  Courts normally apply  objective test emphasis supplied  observations  Atkin    case cited  counsel  also worth recalling\\n  Such  intention ordinarily will  inferred when parties enter into  agreement which  other respects conforms   rules      formation  contracts    negatived impliedly   nature   agreed promise  promises    case  offer  acceptance  hospitality   some agreements made   course  family life between members   family   Balfour  Balfour       Edwards  Skyways       Megaw  said\\n  present case  subject matter   agreement  business relations  social  domestic matters There   meeting  minds intention  agree There  admittedly consideration   company promise  accept  propositions  counsel   plaintiff that   case  this nature  onus    party  asserts that  legal effect  intended   onus   heavy  Again  Bahamas  Refining   Kristiansands Tankrederie   Others  Shell International Marine   Lloyds  Reports    said\\n  deciding whether   there   animus contrabendi  relation   certain transaction  whether   sufficient notice   certain term  given   applies  objective    subjective test     absence  such evidence    Court assume even   might  relevant   that  master   intend  enter into  contract \\n  arguments  learned counsel proceeds   general proposition that  addition   existence   agreement   presence  consideration there  also  third contractual element   form  intention   parties  create legal relations This proposition though accepted  English    passed unchallenged  Cheshire  Fifoot   Contract     said\\n criticism   made  Professor Williston demands attention  only  emanating from  distinguished American jurist   illuminating  whole subject  under discussion   opinion  separate  element  intention  foreign   common  imported from  Continent  academic influences   nineteenth century  useful only  systems which lack  test  consideration  enable them  determine  boundaries  contract   page   that     point however  note  emphasise  that this intention   create legal obligation   inferable from  application   objective text  enforceability  debt  pleaded    part  what  permissible    contracts  specifically  some inexorable incident   particular tenet peculiar   characteristic   personal    Muslims That  having been established  appeal   opinion could  made   principle  permissibility  exclusion  legal obligations     contracts   afraid both  Tribunal   High Court accepted somewhat liberally perhaps what   best  argument  hypothetical probabilities  admitted existence   debt implies  obligation  repay  legal    remedy  pleaded What     unsubstantiated   existence   remedy itself\\n Accordingly  appeals  allowed   reversal   view taken   High Court  questions referred  opinion  answered   negative   favour   Revenue with  attendant implication that  loan would become includible   wealth   assessee   relevant assessment years   circumstances   case  make  order   costs\\n Appeals allowed '"
            ],
            "application/vnd.google.colaboratory.intrinsic+json": {
              "type": "string"
            }
          },
          "metadata": {},
          "execution_count": 13
        }
      ]
    },
    {
      "cell_type": "markdown",
      "source": [
        "This portion of code was used to stem and tokenize, removed later on to improve the resuts, hence commented"
      ],
      "metadata": {
        "id": "8Qy5nHDOEyUA"
      }
    },
    {
      "cell_type": "code",
      "source": [
        "# import nltk\n",
        "# from nltk.tokenize import sent_tokenize, word_tokenize\n",
        "# from nltk.stem import PorterStemmer\n",
        "# nltk.download('punkt')\n",
        "\n",
        "# porter=PorterStemmer()\n",
        "\n",
        "# def stemSentence(sentence):\n",
        "#     token_words=word_tokenize(sentence)\n",
        "#     token_words\n",
        "#     stem_sentence=[]\n",
        "#     for word in token_words:\n",
        "#         stem_sentence.append(porter.stem(word))\n",
        "#         stem_sentence.append(\" \")\n",
        "#     return \"\".join(stem_sentence)"
      ],
      "metadata": {
        "colab": {
          "base_uri": "https://localhost:8080/"
        },
        "id": "eUZFfQHOk0sx",
        "outputId": "d38f4c08-3d9b-430b-f080-6be3082dbe42"
      },
      "execution_count": null,
      "outputs": [
        {
          "output_type": "stream",
          "name": "stdout",
          "text": [
            "[nltk_data] Downloading package punkt to /root/nltk_data...\n",
            "[nltk_data]   Package punkt is already up-to-date!\n"
          ]
        }
      ]
    },
    {
      "cell_type": "markdown",
      "source": [
        "A stemmed corpus was created here, but as above removed later, hence commented"
      ],
      "metadata": {
        "id": "JCHqhgX_FMBB"
      }
    },
    {
      "cell_type": "code",
      "source": [
        "# stemmed_corpus = []\n",
        "# for file in corpus:\n",
        "#   stem_file = stemSentence(file)\n",
        "#   stemmed_corpus.append(stem_file)\n",
        "# print(stemmed_corpus.shape())\n",
        "# df['stemmed_text'] = stemmed_corpus\n",
        "# df\n",
        "# stemmed_corpus[0]"
      ],
      "metadata": {
        "id": "-lG5tFXJ2IOy"
      },
      "execution_count": null,
      "outputs": []
    },
    {
      "cell_type": "markdown",
      "source": [
        "Creating a list having each document_id and text pair to make it easy to refer to the name of the document in the later stages"
      ],
      "metadata": {
        "id": "T4s67a7XFhEx"
      }
    },
    {
      "cell_type": "code",
      "source": [
        "Id_Text_pair = []\n",
        "for file,corpus in zip(files,corpus):\n",
        "  case_id = file.split('/')[-1]\n",
        "  text = corpus\n",
        "  Id_Text_pair.append((case_id,text))"
      ],
      "metadata": {
        "id": "GHvcghMngwgK"
      },
      "execution_count": 11,
      "outputs": []
    },
    {
      "cell_type": "code",
      "source": [
        "# df_stemmed1 = df[['case_id','stemmed_text']]   # commented as stemming is not implemented now\n",
        "df_stemmed1 = df[['case_id','Case_Text']]\n",
        "df_stemmed1"
      ],
      "metadata": {
        "colab": {
          "base_uri": "https://localhost:8080/",
          "height": 424
        },
        "id": "Sh_rjCXM1SEo",
        "outputId": "59c4488b-abf0-45b6-e759-7c48f08d25e0"
      },
      "execution_count": 12,
      "outputs": [
        {
          "output_type": "execute_result",
          "data": {
            "text/plain": [
              "                  case_id                                          Case_Text\n",
              "0     prior_case_1188.txt    INSC        Suppl            SCALE    \\nVENK...\n",
              "1     prior_case_0916.txt   INSC               November \\nMATHEW KUTTYIL ...\n",
              "2     prior_case_1987.txt               August \\nKRISHNAIYER \\nKRISHNAIYE...\n",
              "3     prior_case_0086.txt   CLOTH  GENERAL MILLS   INSC               Oct...\n",
              "4     prior_case_1997.txt   November \\n SHAH \\nSHAH \\nRAMASWAMI \\nGROVER ...\n",
              "...                   ...                                                ...\n",
              "2001  prior_case_1333.txt   INSC           April \\n SUBBARAO \\nSUBBARAO \\...\n",
              "2002  prior_case_0132.txt   INSC           September \\n BHAGWATI NATWARLA...\n",
              "2003  prior_case_1521.txt   October \\n AIYYAR  VENKATARAMA AIYYAR  VENKAT...\n",
              "2004  prior_case_1537.txt     INSC                    SCALE   January \\nV...\n",
              "2005  prior_case_1538.txt                 SCALE   September \\nTHAKKAR   T...\n",
              "\n",
              "[2006 rows x 2 columns]"
            ],
            "text/html": [
              "\n",
              "  <div id=\"df-fb81e707-66e9-4f23-8440-76b8b89c190e\">\n",
              "    <div class=\"colab-df-container\">\n",
              "      <div>\n",
              "<style scoped>\n",
              "    .dataframe tbody tr th:only-of-type {\n",
              "        vertical-align: middle;\n",
              "    }\n",
              "\n",
              "    .dataframe tbody tr th {\n",
              "        vertical-align: top;\n",
              "    }\n",
              "\n",
              "    .dataframe thead th {\n",
              "        text-align: right;\n",
              "    }\n",
              "</style>\n",
              "<table border=\"1\" class=\"dataframe\">\n",
              "  <thead>\n",
              "    <tr style=\"text-align: right;\">\n",
              "      <th></th>\n",
              "      <th>case_id</th>\n",
              "      <th>Case_Text</th>\n",
              "    </tr>\n",
              "  </thead>\n",
              "  <tbody>\n",
              "    <tr>\n",
              "      <th>0</th>\n",
              "      <td>prior_case_1188.txt</td>\n",
              "      <td>INSC        Suppl            SCALE    \\nVENK...</td>\n",
              "    </tr>\n",
              "    <tr>\n",
              "      <th>1</th>\n",
              "      <td>prior_case_0916.txt</td>\n",
              "      <td>INSC               November \\nMATHEW KUTTYIL ...</td>\n",
              "    </tr>\n",
              "    <tr>\n",
              "      <th>2</th>\n",
              "      <td>prior_case_1987.txt</td>\n",
              "      <td>August \\nKRISHNAIYER \\nKRISHNAIYE...</td>\n",
              "    </tr>\n",
              "    <tr>\n",
              "      <th>3</th>\n",
              "      <td>prior_case_0086.txt</td>\n",
              "      <td>CLOTH  GENERAL MILLS   INSC               Oct...</td>\n",
              "    </tr>\n",
              "    <tr>\n",
              "      <th>4</th>\n",
              "      <td>prior_case_1997.txt</td>\n",
              "      <td>November \\n SHAH \\nSHAH \\nRAMASWAMI \\nGROVER ...</td>\n",
              "    </tr>\n",
              "    <tr>\n",
              "      <th>...</th>\n",
              "      <td>...</td>\n",
              "      <td>...</td>\n",
              "    </tr>\n",
              "    <tr>\n",
              "      <th>2001</th>\n",
              "      <td>prior_case_1333.txt</td>\n",
              "      <td>INSC           April \\n SUBBARAO \\nSUBBARAO \\...</td>\n",
              "    </tr>\n",
              "    <tr>\n",
              "      <th>2002</th>\n",
              "      <td>prior_case_0132.txt</td>\n",
              "      <td>INSC           September \\n BHAGWATI NATWARLA...</td>\n",
              "    </tr>\n",
              "    <tr>\n",
              "      <th>2003</th>\n",
              "      <td>prior_case_1521.txt</td>\n",
              "      <td>October \\n AIYYAR  VENKATARAMA AIYYAR  VENKAT...</td>\n",
              "    </tr>\n",
              "    <tr>\n",
              "      <th>2004</th>\n",
              "      <td>prior_case_1537.txt</td>\n",
              "      <td>INSC                    SCALE   January \\nV...</td>\n",
              "    </tr>\n",
              "    <tr>\n",
              "      <th>2005</th>\n",
              "      <td>prior_case_1538.txt</td>\n",
              "      <td>SCALE   September \\nTHAKKAR   T...</td>\n",
              "    </tr>\n",
              "  </tbody>\n",
              "</table>\n",
              "<p>2006 rows × 2 columns</p>\n",
              "</div>\n",
              "      <button class=\"colab-df-convert\" onclick=\"convertToInteractive('df-fb81e707-66e9-4f23-8440-76b8b89c190e')\"\n",
              "              title=\"Convert this dataframe to an interactive table.\"\n",
              "              style=\"display:none;\">\n",
              "        \n",
              "  <svg xmlns=\"http://www.w3.org/2000/svg\" height=\"24px\"viewBox=\"0 0 24 24\"\n",
              "       width=\"24px\">\n",
              "    <path d=\"M0 0h24v24H0V0z\" fill=\"none\"/>\n",
              "    <path d=\"M18.56 5.44l.94 2.06.94-2.06 2.06-.94-2.06-.94-.94-2.06-.94 2.06-2.06.94zm-11 1L8.5 8.5l.94-2.06 2.06-.94-2.06-.94L8.5 2.5l-.94 2.06-2.06.94zm10 10l.94 2.06.94-2.06 2.06-.94-2.06-.94-.94-2.06-.94 2.06-2.06.94z\"/><path d=\"M17.41 7.96l-1.37-1.37c-.4-.4-.92-.59-1.43-.59-.52 0-1.04.2-1.43.59L10.3 9.45l-7.72 7.72c-.78.78-.78 2.05 0 2.83L4 21.41c.39.39.9.59 1.41.59.51 0 1.02-.2 1.41-.59l7.78-7.78 2.81-2.81c.8-.78.8-2.07 0-2.86zM5.41 20L4 18.59l7.72-7.72 1.47 1.35L5.41 20z\"/>\n",
              "  </svg>\n",
              "      </button>\n",
              "      \n",
              "  <style>\n",
              "    .colab-df-container {\n",
              "      display:flex;\n",
              "      flex-wrap:wrap;\n",
              "      gap: 12px;\n",
              "    }\n",
              "\n",
              "    .colab-df-convert {\n",
              "      background-color: #E8F0FE;\n",
              "      border: none;\n",
              "      border-radius: 50%;\n",
              "      cursor: pointer;\n",
              "      display: none;\n",
              "      fill: #1967D2;\n",
              "      height: 32px;\n",
              "      padding: 0 0 0 0;\n",
              "      width: 32px;\n",
              "    }\n",
              "\n",
              "    .colab-df-convert:hover {\n",
              "      background-color: #E2EBFA;\n",
              "      box-shadow: 0px 1px 2px rgba(60, 64, 67, 0.3), 0px 1px 3px 1px rgba(60, 64, 67, 0.15);\n",
              "      fill: #174EA6;\n",
              "    }\n",
              "\n",
              "    [theme=dark] .colab-df-convert {\n",
              "      background-color: #3B4455;\n",
              "      fill: #D2E3FC;\n",
              "    }\n",
              "\n",
              "    [theme=dark] .colab-df-convert:hover {\n",
              "      background-color: #434B5C;\n",
              "      box-shadow: 0px 1px 3px 1px rgba(0, 0, 0, 0.15);\n",
              "      filter: drop-shadow(0px 1px 2px rgba(0, 0, 0, 0.3));\n",
              "      fill: #FFFFFF;\n",
              "    }\n",
              "  </style>\n",
              "\n",
              "      <script>\n",
              "        const buttonEl =\n",
              "          document.querySelector('#df-fb81e707-66e9-4f23-8440-76b8b89c190e button.colab-df-convert');\n",
              "        buttonEl.style.display =\n",
              "          google.colab.kernel.accessAllowed ? 'block' : 'none';\n",
              "\n",
              "        async function convertToInteractive(key) {\n",
              "          const element = document.querySelector('#df-fb81e707-66e9-4f23-8440-76b8b89c190e');\n",
              "          const dataTable =\n",
              "            await google.colab.kernel.invokeFunction('convertToInteractive',\n",
              "                                                     [key], {});\n",
              "          if (!dataTable) return;\n",
              "\n",
              "          const docLinkHtml = 'Like what you see? Visit the ' +\n",
              "            '<a target=\"_blank\" href=https://colab.research.google.com/notebooks/data_table.ipynb>data table notebook</a>'\n",
              "            + ' to learn more about interactive tables.';\n",
              "          element.innerHTML = '';\n",
              "          dataTable['output_type'] = 'display_data';\n",
              "          await google.colab.output.renderOutput(dataTable, element);\n",
              "          const docLink = document.createElement('div');\n",
              "          docLink.innerHTML = docLinkHtml;\n",
              "          element.appendChild(docLink);\n",
              "        }\n",
              "      </script>\n",
              "    </div>\n",
              "  </div>\n",
              "  "
            ]
          },
          "metadata": {},
          "execution_count": 12
        }
      ]
    },
    {
      "cell_type": "markdown",
      "source": [
        "Getting the vocabulary and its size, just for visualization purposes"
      ],
      "metadata": {
        "id": "t3LnQlnzGPsg"
      }
    },
    {
      "cell_type": "code",
      "source": [
        "vectorizer = CountVectorizer(stop_words='english')\n",
        "documents_vectorized = vectorizer.fit_transform(corpus)\n",
        "vocabulary = vectorizer.get_feature_names_out()\n",
        "vocabulary.shape"
      ],
      "metadata": {
        "colab": {
          "base_uri": "https://localhost:8080/"
        },
        "id": "GpX3iE-vwO0A",
        "outputId": "a10c02c3-527e-4020-d902-291f3489ed40"
      },
      "execution_count": 14,
      "outputs": [
        {
          "output_type": "execute_result",
          "data": {
            "text/plain": [
              "(83786,)"
            ]
          },
          "metadata": {},
          "execution_count": 14
        }
      ]
    },
    {
      "cell_type": "code",
      "source": [
        "dataframe = pd.DataFrame(documents_vectorized.toarray(), columns=vocabulary)\n",
        "dataframe"
      ],
      "metadata": {
        "colab": {
          "base_uri": "https://localhost:8080/",
          "height": 487
        },
        "id": "J18JEP35lGk-",
        "outputId": "1dfd67d2-93a4-4b77-e733-20f2d2b87b16"
      },
      "execution_count": 15,
      "outputs": [
        {
          "output_type": "execute_result",
          "data": {
            "text/plain": [
              "      aaaa  aaccorded  aadras  aaginst  aalborg  aand  aane  aangam  aapeal  \\\n",
              "0        0          0       0        0        0     0     0       0       0   \n",
              "1        0          0       0        0        0     0     0       0       0   \n",
              "2        0          0       0        0        0     0     0       0       0   \n",
              "3        0          0       0        0        0     0     0       0       0   \n",
              "4        0          0       0        0        0     0     0       0       0   \n",
              "...    ...        ...     ...      ...      ...   ...   ...     ...     ...   \n",
              "2001     0          0       0        0        0     0     0       0       0   \n",
              "2002     0          0       0        0        0     0     0       0       0   \n",
              "2003     0          0       0        0        0     0     0       0       0   \n",
              "2004     0          0       0        0        0     0     0       0       0   \n",
              "2005     0          0       0        0        0     0     0       0       0   \n",
              "\n",
              "      aapke  ...  zoraster  zorawar  zoroastrian  zoroastrianism  zumber  \\\n",
              "0         0  ...         0        0            0               0       0   \n",
              "1         0  ...         0        0            0               0       0   \n",
              "2         0  ...         0        0            0               0       7   \n",
              "3         0  ...         0        0            0               0       0   \n",
              "4         0  ...         0        0            0               0       0   \n",
              "...     ...  ...       ...      ...          ...             ...     ...   \n",
              "2001      0  ...         0        0            0               0       0   \n",
              "2002      0  ...         0        0            0               0       0   \n",
              "2003      0  ...         0        0            0               0       0   \n",
              "2004      0  ...         0        0            0               0       0   \n",
              "2005      0  ...         0        0            0               0       0   \n",
              "\n",
              "      zure  zurich  zuripeshgi  zutshi  zwinglee  \n",
              "0        0       0           0       0         0  \n",
              "1        0       0           0       0         0  \n",
              "2        0       0           0       0         0  \n",
              "3        0       0           0       0         0  \n",
              "4        0       0           0       0         0  \n",
              "...    ...     ...         ...     ...       ...  \n",
              "2001     0       0           0       0         0  \n",
              "2002     0       0           0       0         0  \n",
              "2003     0       0           0       0         0  \n",
              "2004     0       0           0       0         0  \n",
              "2005     0       0           0       0         0  \n",
              "\n",
              "[2006 rows x 83786 columns]"
            ],
            "text/html": [
              "\n",
              "  <div id=\"df-a64a16d5-028d-4115-868c-f74743dd875d\">\n",
              "    <div class=\"colab-df-container\">\n",
              "      <div>\n",
              "<style scoped>\n",
              "    .dataframe tbody tr th:only-of-type {\n",
              "        vertical-align: middle;\n",
              "    }\n",
              "\n",
              "    .dataframe tbody tr th {\n",
              "        vertical-align: top;\n",
              "    }\n",
              "\n",
              "    .dataframe thead th {\n",
              "        text-align: right;\n",
              "    }\n",
              "</style>\n",
              "<table border=\"1\" class=\"dataframe\">\n",
              "  <thead>\n",
              "    <tr style=\"text-align: right;\">\n",
              "      <th></th>\n",
              "      <th>aaaa</th>\n",
              "      <th>aaccorded</th>\n",
              "      <th>aadras</th>\n",
              "      <th>aaginst</th>\n",
              "      <th>aalborg</th>\n",
              "      <th>aand</th>\n",
              "      <th>aane</th>\n",
              "      <th>aangam</th>\n",
              "      <th>aapeal</th>\n",
              "      <th>aapke</th>\n",
              "      <th>...</th>\n",
              "      <th>zoraster</th>\n",
              "      <th>zorawar</th>\n",
              "      <th>zoroastrian</th>\n",
              "      <th>zoroastrianism</th>\n",
              "      <th>zumber</th>\n",
              "      <th>zure</th>\n",
              "      <th>zurich</th>\n",
              "      <th>zuripeshgi</th>\n",
              "      <th>zutshi</th>\n",
              "      <th>zwinglee</th>\n",
              "    </tr>\n",
              "  </thead>\n",
              "  <tbody>\n",
              "    <tr>\n",
              "      <th>0</th>\n",
              "      <td>0</td>\n",
              "      <td>0</td>\n",
              "      <td>0</td>\n",
              "      <td>0</td>\n",
              "      <td>0</td>\n",
              "      <td>0</td>\n",
              "      <td>0</td>\n",
              "      <td>0</td>\n",
              "      <td>0</td>\n",
              "      <td>0</td>\n",
              "      <td>...</td>\n",
              "      <td>0</td>\n",
              "      <td>0</td>\n",
              "      <td>0</td>\n",
              "      <td>0</td>\n",
              "      <td>0</td>\n",
              "      <td>0</td>\n",
              "      <td>0</td>\n",
              "      <td>0</td>\n",
              "      <td>0</td>\n",
              "      <td>0</td>\n",
              "    </tr>\n",
              "    <tr>\n",
              "      <th>1</th>\n",
              "      <td>0</td>\n",
              "      <td>0</td>\n",
              "      <td>0</td>\n",
              "      <td>0</td>\n",
              "      <td>0</td>\n",
              "      <td>0</td>\n",
              "      <td>0</td>\n",
              "      <td>0</td>\n",
              "      <td>0</td>\n",
              "      <td>0</td>\n",
              "      <td>...</td>\n",
              "      <td>0</td>\n",
              "      <td>0</td>\n",
              "      <td>0</td>\n",
              "      <td>0</td>\n",
              "      <td>0</td>\n",
              "      <td>0</td>\n",
              "      <td>0</td>\n",
              "      <td>0</td>\n",
              "      <td>0</td>\n",
              "      <td>0</td>\n",
              "    </tr>\n",
              "    <tr>\n",
              "      <th>2</th>\n",
              "      <td>0</td>\n",
              "      <td>0</td>\n",
              "      <td>0</td>\n",
              "      <td>0</td>\n",
              "      <td>0</td>\n",
              "      <td>0</td>\n",
              "      <td>0</td>\n",
              "      <td>0</td>\n",
              "      <td>0</td>\n",
              "      <td>0</td>\n",
              "      <td>...</td>\n",
              "      <td>0</td>\n",
              "      <td>0</td>\n",
              "      <td>0</td>\n",
              "      <td>0</td>\n",
              "      <td>7</td>\n",
              "      <td>0</td>\n",
              "      <td>0</td>\n",
              "      <td>0</td>\n",
              "      <td>0</td>\n",
              "      <td>0</td>\n",
              "    </tr>\n",
              "    <tr>\n",
              "      <th>3</th>\n",
              "      <td>0</td>\n",
              "      <td>0</td>\n",
              "      <td>0</td>\n",
              "      <td>0</td>\n",
              "      <td>0</td>\n",
              "      <td>0</td>\n",
              "      <td>0</td>\n",
              "      <td>0</td>\n",
              "      <td>0</td>\n",
              "      <td>0</td>\n",
              "      <td>...</td>\n",
              "      <td>0</td>\n",
              "      <td>0</td>\n",
              "      <td>0</td>\n",
              "      <td>0</td>\n",
              "      <td>0</td>\n",
              "      <td>0</td>\n",
              "      <td>0</td>\n",
              "      <td>0</td>\n",
              "      <td>0</td>\n",
              "      <td>0</td>\n",
              "    </tr>\n",
              "    <tr>\n",
              "      <th>4</th>\n",
              "      <td>0</td>\n",
              "      <td>0</td>\n",
              "      <td>0</td>\n",
              "      <td>0</td>\n",
              "      <td>0</td>\n",
              "      <td>0</td>\n",
              "      <td>0</td>\n",
              "      <td>0</td>\n",
              "      <td>0</td>\n",
              "      <td>0</td>\n",
              "      <td>...</td>\n",
              "      <td>0</td>\n",
              "      <td>0</td>\n",
              "      <td>0</td>\n",
              "      <td>0</td>\n",
              "      <td>0</td>\n",
              "      <td>0</td>\n",
              "      <td>0</td>\n",
              "      <td>0</td>\n",
              "      <td>0</td>\n",
              "      <td>0</td>\n",
              "    </tr>\n",
              "    <tr>\n",
              "      <th>...</th>\n",
              "      <td>...</td>\n",
              "      <td>...</td>\n",
              "      <td>...</td>\n",
              "      <td>...</td>\n",
              "      <td>...</td>\n",
              "      <td>...</td>\n",
              "      <td>...</td>\n",
              "      <td>...</td>\n",
              "      <td>...</td>\n",
              "      <td>...</td>\n",
              "      <td>...</td>\n",
              "      <td>...</td>\n",
              "      <td>...</td>\n",
              "      <td>...</td>\n",
              "      <td>...</td>\n",
              "      <td>...</td>\n",
              "      <td>...</td>\n",
              "      <td>...</td>\n",
              "      <td>...</td>\n",
              "      <td>...</td>\n",
              "      <td>...</td>\n",
              "    </tr>\n",
              "    <tr>\n",
              "      <th>2001</th>\n",
              "      <td>0</td>\n",
              "      <td>0</td>\n",
              "      <td>0</td>\n",
              "      <td>0</td>\n",
              "      <td>0</td>\n",
              "      <td>0</td>\n",
              "      <td>0</td>\n",
              "      <td>0</td>\n",
              "      <td>0</td>\n",
              "      <td>0</td>\n",
              "      <td>...</td>\n",
              "      <td>0</td>\n",
              "      <td>0</td>\n",
              "      <td>0</td>\n",
              "      <td>0</td>\n",
              "      <td>0</td>\n",
              "      <td>0</td>\n",
              "      <td>0</td>\n",
              "      <td>0</td>\n",
              "      <td>0</td>\n",
              "      <td>0</td>\n",
              "    </tr>\n",
              "    <tr>\n",
              "      <th>2002</th>\n",
              "      <td>0</td>\n",
              "      <td>0</td>\n",
              "      <td>0</td>\n",
              "      <td>0</td>\n",
              "      <td>0</td>\n",
              "      <td>0</td>\n",
              "      <td>0</td>\n",
              "      <td>0</td>\n",
              "      <td>0</td>\n",
              "      <td>0</td>\n",
              "      <td>...</td>\n",
              "      <td>0</td>\n",
              "      <td>0</td>\n",
              "      <td>0</td>\n",
              "      <td>0</td>\n",
              "      <td>0</td>\n",
              "      <td>0</td>\n",
              "      <td>0</td>\n",
              "      <td>0</td>\n",
              "      <td>0</td>\n",
              "      <td>0</td>\n",
              "    </tr>\n",
              "    <tr>\n",
              "      <th>2003</th>\n",
              "      <td>0</td>\n",
              "      <td>0</td>\n",
              "      <td>0</td>\n",
              "      <td>0</td>\n",
              "      <td>0</td>\n",
              "      <td>0</td>\n",
              "      <td>0</td>\n",
              "      <td>0</td>\n",
              "      <td>0</td>\n",
              "      <td>0</td>\n",
              "      <td>...</td>\n",
              "      <td>0</td>\n",
              "      <td>0</td>\n",
              "      <td>0</td>\n",
              "      <td>0</td>\n",
              "      <td>0</td>\n",
              "      <td>0</td>\n",
              "      <td>0</td>\n",
              "      <td>0</td>\n",
              "      <td>0</td>\n",
              "      <td>0</td>\n",
              "    </tr>\n",
              "    <tr>\n",
              "      <th>2004</th>\n",
              "      <td>0</td>\n",
              "      <td>0</td>\n",
              "      <td>0</td>\n",
              "      <td>0</td>\n",
              "      <td>0</td>\n",
              "      <td>0</td>\n",
              "      <td>0</td>\n",
              "      <td>0</td>\n",
              "      <td>0</td>\n",
              "      <td>0</td>\n",
              "      <td>...</td>\n",
              "      <td>0</td>\n",
              "      <td>0</td>\n",
              "      <td>0</td>\n",
              "      <td>0</td>\n",
              "      <td>0</td>\n",
              "      <td>0</td>\n",
              "      <td>0</td>\n",
              "      <td>0</td>\n",
              "      <td>0</td>\n",
              "      <td>0</td>\n",
              "    </tr>\n",
              "    <tr>\n",
              "      <th>2005</th>\n",
              "      <td>0</td>\n",
              "      <td>0</td>\n",
              "      <td>0</td>\n",
              "      <td>0</td>\n",
              "      <td>0</td>\n",
              "      <td>0</td>\n",
              "      <td>0</td>\n",
              "      <td>0</td>\n",
              "      <td>0</td>\n",
              "      <td>0</td>\n",
              "      <td>...</td>\n",
              "      <td>0</td>\n",
              "      <td>0</td>\n",
              "      <td>0</td>\n",
              "      <td>0</td>\n",
              "      <td>0</td>\n",
              "      <td>0</td>\n",
              "      <td>0</td>\n",
              "      <td>0</td>\n",
              "      <td>0</td>\n",
              "      <td>0</td>\n",
              "    </tr>\n",
              "  </tbody>\n",
              "</table>\n",
              "<p>2006 rows × 83786 columns</p>\n",
              "</div>\n",
              "      <button class=\"colab-df-convert\" onclick=\"convertToInteractive('df-a64a16d5-028d-4115-868c-f74743dd875d')\"\n",
              "              title=\"Convert this dataframe to an interactive table.\"\n",
              "              style=\"display:none;\">\n",
              "        \n",
              "  <svg xmlns=\"http://www.w3.org/2000/svg\" height=\"24px\"viewBox=\"0 0 24 24\"\n",
              "       width=\"24px\">\n",
              "    <path d=\"M0 0h24v24H0V0z\" fill=\"none\"/>\n",
              "    <path d=\"M18.56 5.44l.94 2.06.94-2.06 2.06-.94-2.06-.94-.94-2.06-.94 2.06-2.06.94zm-11 1L8.5 8.5l.94-2.06 2.06-.94-2.06-.94L8.5 2.5l-.94 2.06-2.06.94zm10 10l.94 2.06.94-2.06 2.06-.94-2.06-.94-.94-2.06-.94 2.06-2.06.94z\"/><path d=\"M17.41 7.96l-1.37-1.37c-.4-.4-.92-.59-1.43-.59-.52 0-1.04.2-1.43.59L10.3 9.45l-7.72 7.72c-.78.78-.78 2.05 0 2.83L4 21.41c.39.39.9.59 1.41.59.51 0 1.02-.2 1.41-.59l7.78-7.78 2.81-2.81c.8-.78.8-2.07 0-2.86zM5.41 20L4 18.59l7.72-7.72 1.47 1.35L5.41 20z\"/>\n",
              "  </svg>\n",
              "      </button>\n",
              "      \n",
              "  <style>\n",
              "    .colab-df-container {\n",
              "      display:flex;\n",
              "      flex-wrap:wrap;\n",
              "      gap: 12px;\n",
              "    }\n",
              "\n",
              "    .colab-df-convert {\n",
              "      background-color: #E8F0FE;\n",
              "      border: none;\n",
              "      border-radius: 50%;\n",
              "      cursor: pointer;\n",
              "      display: none;\n",
              "      fill: #1967D2;\n",
              "      height: 32px;\n",
              "      padding: 0 0 0 0;\n",
              "      width: 32px;\n",
              "    }\n",
              "\n",
              "    .colab-df-convert:hover {\n",
              "      background-color: #E2EBFA;\n",
              "      box-shadow: 0px 1px 2px rgba(60, 64, 67, 0.3), 0px 1px 3px 1px rgba(60, 64, 67, 0.15);\n",
              "      fill: #174EA6;\n",
              "    }\n",
              "\n",
              "    [theme=dark] .colab-df-convert {\n",
              "      background-color: #3B4455;\n",
              "      fill: #D2E3FC;\n",
              "    }\n",
              "\n",
              "    [theme=dark] .colab-df-convert:hover {\n",
              "      background-color: #434B5C;\n",
              "      box-shadow: 0px 1px 3px 1px rgba(0, 0, 0, 0.15);\n",
              "      filter: drop-shadow(0px 1px 2px rgba(0, 0, 0, 0.3));\n",
              "      fill: #FFFFFF;\n",
              "    }\n",
              "  </style>\n",
              "\n",
              "      <script>\n",
              "        const buttonEl =\n",
              "          document.querySelector('#df-a64a16d5-028d-4115-868c-f74743dd875d button.colab-df-convert');\n",
              "        buttonEl.style.display =\n",
              "          google.colab.kernel.accessAllowed ? 'block' : 'none';\n",
              "\n",
              "        async function convertToInteractive(key) {\n",
              "          const element = document.querySelector('#df-a64a16d5-028d-4115-868c-f74743dd875d');\n",
              "          const dataTable =\n",
              "            await google.colab.kernel.invokeFunction('convertToInteractive',\n",
              "                                                     [key], {});\n",
              "          if (!dataTable) return;\n",
              "\n",
              "          const docLinkHtml = 'Like what you see? Visit the ' +\n",
              "            '<a target=\"_blank\" href=https://colab.research.google.com/notebooks/data_table.ipynb>data table notebook</a>'\n",
              "            + ' to learn more about interactive tables.';\n",
              "          element.innerHTML = '';\n",
              "          dataTable['output_type'] = 'display_data';\n",
              "          await google.colab.output.renderOutput(dataTable, element);\n",
              "          const docLink = document.createElement('div');\n",
              "          docLink.innerHTML = docLinkHtml;\n",
              "          element.appendChild(docLink);\n",
              "        }\n",
              "      </script>\n",
              "    </div>\n",
              "  </div>\n",
              "  "
            ]
          },
          "metadata": {},
          "execution_count": 15
        }
      ]
    },
    {
      "cell_type": "markdown",
      "source": [
        "#Connecting to ElasticSearch"
      ],
      "metadata": {
        "id": "bWCluiJ-Qyxu"
      }
    },
    {
      "cell_type": "code",
      "source": [
        "%%bash --bg\n",
        "sudo -H -u daemon elasticsearch-7.9.2/bin/elasticsearch"
      ],
      "metadata": {
        "colab": {
          "base_uri": "https://localhost:8080/"
        },
        "id": "JDuj1Gih3ZEN",
        "outputId": "c59aa908-e985-4bbe-dbcc-5b3c9e72907a"
      },
      "execution_count": 16,
      "outputs": [
        {
          "output_type": "stream",
          "name": "stdout",
          "text": [
            "Starting job # 0 in a separate thread.\n"
          ]
        }
      ]
    },
    {
      "cell_type": "code",
      "source": [
        "%%bash\n",
        "ps -ef | grep elasticsearch"
      ],
      "metadata": {
        "id": "Jpn16yob3dwI",
        "colab": {
          "base_uri": "https://localhost:8080/"
        },
        "outputId": "7b6f9d8b-e632-4c35-a902-dfc5e3d84405"
      },
      "execution_count": 17,
      "outputs": [
        {
          "output_type": "stream",
          "name": "stdout",
          "text": [
            "root        2395    2393  0 09:42 ?        00:00:00 sudo -H -u daemon elasticsearch-7.9.2/bin/elasticsearch\n",
            "daemon      2396    2395  0 09:42 ?        00:00:00 /bin/bash elasticsearch-7.9.2/bin/elasticsearch\n",
            "daemon      2419    2396  0 09:42 ?        00:00:00 /bin/bash elasticsearch-7.9.2/bin/elasticsearch\n",
            "daemon      2420    2419  0 09:42 ?        00:00:00 /content/elasticsearch-7.9.2/jdk/bin/java -version\n",
            "root        2429    2407  0 09:42 ?        00:00:00 grep elasticsearch\n"
          ]
        }
      ]
    },
    {
      "cell_type": "code",
      "source": [
        "# start es server\n",
        "time.sleep(20) # give the server 20 seconds to start ..\n",
        "!curl -X GET \"http://localhost:9200\" "
      ],
      "metadata": {
        "id": "tezowHdh3icu",
        "colab": {
          "base_uri": "https://localhost:8080/"
        },
        "outputId": "1dcfb2cd-fbca-426f-b4f5-7c7fa2d759e3"
      },
      "execution_count": 18,
      "outputs": [
        {
          "output_type": "stream",
          "name": "stdout",
          "text": [
            "{\n",
            "  \"name\" : \"c089867feb90\",\n",
            "  \"cluster_name\" : \"elasticsearch\",\n",
            "  \"cluster_uuid\" : \"lV7sTj0USSynrZI8nm7lkA\",\n",
            "  \"version\" : {\n",
            "    \"number\" : \"7.9.2\",\n",
            "    \"build_flavor\" : \"oss\",\n",
            "    \"build_type\" : \"tar\",\n",
            "    \"build_hash\" : \"d34da0ea4a966c4e49417f2da2f244e3e97b4e6e\",\n",
            "    \"build_date\" : \"2020-09-23T00:45:33.626720Z\",\n",
            "    \"build_snapshot\" : false,\n",
            "    \"lucene_version\" : \"8.6.2\",\n",
            "    \"minimum_wire_compatibility_version\" : \"6.8.0\",\n",
            "    \"minimum_index_compatibility_version\" : \"6.0.0-beta1\"\n",
            "  },\n",
            "  \"tagline\" : \"You Know, for Search\"\n",
            "}\n"
          ]
        }
      ]
    },
    {
      "cell_type": "code",
      "source": [
        "def test_ES(client):\n",
        "  return es.ping()  # got True"
      ],
      "metadata": {
        "id": "CsHu1gkm379m"
      },
      "execution_count": 19,
      "outputs": []
    },
    {
      "cell_type": "code",
      "source": [
        "# start and TEST es \n",
        "es = Elasticsearch(\"http://localhost:9200\")\n",
        "if test_ES(es):\n",
        "  print('ES instance working')\n",
        "else:\n",
        "  print('ES instance not working')"
      ],
      "metadata": {
        "colab": {
          "base_uri": "https://localhost:8080/"
        },
        "id": "nrjtHkeG4AGu",
        "outputId": "2bd8eb55-8d80-40e2-c8fa-65d2669ef813"
      },
      "execution_count": 20,
      "outputs": [
        {
          "output_type": "stream",
          "name": "stdout",
          "text": [
            "ES instance working\n"
          ]
        }
      ]
    },
    {
      "cell_type": "code",
      "source": [
        "# Server information\n",
        "es.info()"
      ],
      "metadata": {
        "colab": {
          "base_uri": "https://localhost:8080/"
        },
        "id": "7Hydrx2K4FKp",
        "outputId": "3fb3797c-66f2-44ae-95c0-9584f984ec91"
      },
      "execution_count": 21,
      "outputs": [
        {
          "output_type": "execute_result",
          "data": {
            "text/plain": [
              "{'cluster_name': 'elasticsearch',\n",
              " 'cluster_uuid': 'lV7sTj0USSynrZI8nm7lkA',\n",
              " 'name': 'c089867feb90',\n",
              " 'tagline': 'You Know, for Search',\n",
              " 'version': {'build_date': '2020-09-23T00:45:33.626720Z',\n",
              "  'build_flavor': 'oss',\n",
              "  'build_hash': 'd34da0ea4a966c4e49417f2da2f244e3e97b4e6e',\n",
              "  'build_snapshot': False,\n",
              "  'build_type': 'tar',\n",
              "  'lucene_version': '8.6.2',\n",
              "  'minimum_index_compatibility_version': '6.0.0-beta1',\n",
              "  'minimum_wire_compatibility_version': '6.8.0',\n",
              "  'number': '7.9.2'}}"
            ]
          },
          "metadata": {},
          "execution_count": 21
        }
      ]
    },
    {
      "cell_type": "code",
      "source": [
        "es = Elasticsearch()"
      ],
      "metadata": {
        "id": "_oU63wyEuAEM"
      },
      "execution_count": 22,
      "outputs": []
    },
    {
      "cell_type": "markdown",
      "source": [
        "# Retrieval Models\n",
        "### Explicitly mapping the data for indexing rather than using dynamic mapping, for the default implementation of ElasticSearch i.e. Okapi BM25 model"
      ],
      "metadata": {
        "id": "c8CGFLabH_iM"
      }
    },
    {
      "cell_type": "code",
      "source": [
        "request_body = {\n",
        "    'settings': {\n",
        "        'number_of_shards': 1,\n",
        "        'number_of_replicas': 0,\n",
        "        \n",
        "    },\n",
        "    'mappings': {\n",
        "          'properties': {\n",
        "              'title': {'type': 'text'},\n",
        "              'body': {'type': 'text'},\n",
        "          }\n",
        "    }\n",
        "}\n",
        "\n",
        "index_name = 'prior_cases'\n",
        "try:\n",
        "  es.indices.get(index_name)\n",
        "  print('index {} already exists'.format(index_name))\n",
        "except:\n",
        "  print('creating index {}'.format(index_name))\n",
        "  es.indices.create(index_name, body=request_body)"
      ],
      "metadata": {
        "colab": {
          "base_uri": "https://localhost:8080/"
        },
        "id": "C5aX00pMgKKn",
        "outputId": "be4f1901-7451-4c9c-a726-1e9564cd93d5"
      },
      "execution_count": 23,
      "outputs": [
        {
          "output_type": "stream",
          "name": "stdout",
          "text": [
            "creating index prior_cases\n"
          ]
        }
      ]
    },
    {
      "cell_type": "markdown",
      "source": [
        "#Expicit mapping as above for the DFR model implementation"
      ],
      "metadata": {
        "id": "uTDNsjhfK_Sx"
      }
    },
    {
      "cell_type": "code",
      "source": [
        "request_body_dfr = {\n",
        "    'settings': {\n",
        "        'number_of_shards': 1,\n",
        "        'number_of_replicas': 1,\n",
        "        'index': {\n",
        "            'similarity': {\n",
        "                'dfr_similarity': {\n",
        "                    'type': 'DFR',\n",
        "                    'basic_model': 'g',\n",
        "                    'after_effect': 'l',\n",
        "                    'normalization': 'h2',\n",
        "                    'normalization.h2.c':'3.0'\n",
        "\n",
        "                }\n",
        "            }\n",
        "        }\n",
        "        \n",
        "    },\n",
        "    'mappings': {\n",
        "          'properties': {\n",
        "              'title': {'type': 'text', 'similarity': 'dfr_similarity'},\n",
        "              'body': {'type': 'text', 'similarity': 'dfr_similarity'}\n",
        "          }\n",
        "    }\n",
        "}\n",
        "\n",
        "index_name_dfr = 'prior_cases_dfr'\n",
        "try:\n",
        "  es.indices.get(index_name_dfr)\n",
        "  print('index {} already exists'.format(index_name_dfr))\n",
        "except:\n",
        "  print('creating index {}'.format(index_name_dfr))\n",
        "  es.indices.create(index_name_dfr, body=request_body_dfr)"
      ],
      "metadata": {
        "colab": {
          "base_uri": "https://localhost:8080/"
        },
        "id": "0XwH9xQcEK83",
        "outputId": "d1743a07-7a36-4a33-a0b4-3a03e1c11918"
      },
      "execution_count": 24,
      "outputs": [
        {
          "output_type": "stream",
          "name": "stdout",
          "text": [
            "creating index prior_cases_dfr\n"
          ]
        }
      ]
    },
    {
      "cell_type": "markdown",
      "source": [
        "##Here, we are entering data into the index for BM25 model"
      ],
      "metadata": {
        "id": "fZHAlYUiLNzp"
      }
    },
    {
      "cell_type": "code",
      "source": [
        "for caseid,text in Id_Text_pair:\n",
        "  document_body= {\n",
        "      'title':caseid,\n",
        "      'body':text\n",
        "  }\n",
        "  es.index(index_name,document_body)\n"
      ],
      "metadata": {
        "id": "uZ3Z32IeguOK"
      },
      "execution_count": 25,
      "outputs": []
    },
    {
      "cell_type": "markdown",
      "source": [
        "##Now, entering data into the index for DFR Model"
      ],
      "metadata": {
        "id": "ab8-4e3QLeyk"
      }
    },
    {
      "cell_type": "code",
      "source": [
        "for caseid,text in Id_Text_pair:\n",
        "  document_body_dfr= {\n",
        "      'title':caseid,\n",
        "      'body':text\n",
        "  }\n",
        "  es.index(index_name_dfr,document_body_dfr)"
      ],
      "metadata": {
        "id": "WDxwBlKPEz_Q"
      },
      "execution_count": 26,
      "outputs": []
    },
    {
      "cell_type": "code",
      "source": [
        "print('we have made an index called {} with {} documents'.format(index_name, es.cat.count(index=index_name,h=['count'])))"
      ],
      "metadata": {
        "id": "XOgxGfhAnJgY",
        "colab": {
          "base_uri": "https://localhost:8080/"
        },
        "outputId": "fffa42d6-a2bb-4e4a-f2cb-5e3d28ecede8"
      },
      "execution_count": 27,
      "outputs": [
        {
          "output_type": "stream",
          "name": "stdout",
          "text": [
            "we have made an index called prior_cases with 2006\n",
            " documents\n"
          ]
        }
      ]
    },
    {
      "cell_type": "code",
      "source": [
        "print('we have made an index called {} with {} documents'.format(index_name_dfr, es.cat.count(index=index_name_dfr,h=['count'])))"
      ],
      "metadata": {
        "id": "-UKj1-KPFEsY",
        "colab": {
          "base_uri": "https://localhost:8080/"
        },
        "outputId": "26b10e74-0c4c-4767-ffc5-4b1860209cc4"
      },
      "execution_count": 28,
      "outputs": [
        {
          "output_type": "stream",
          "name": "stdout",
          "text": [
            "we have made an index called prior_cases_dfr with 2006\n",
            " documents\n"
          ]
        }
      ]
    },
    {
      "cell_type": "code",
      "source": [
        "# Defining search function for BM25 implementation which returns the results as a list\n",
        "def search(index_name, query_body):\n",
        "  # return only doc_id and rank\n",
        "  results = es.search(index=index_name, body=query_body, explain=False)\n",
        "  plain_results = [(x['_source']['title'], x['_score']) for x in results['hits']['hits']]\n",
        "  return results, plain_results"
      ],
      "metadata": {
        "id": "iuOWWAhMpbMW"
      },
      "execution_count": 29,
      "outputs": []
    },
    {
      "cell_type": "code",
      "source": [
        "# Defining the search function for DFR implementation which returns the results as a list\n",
        "def search_dfr(index_name_dfr, query_body):\n",
        "  # return only doc_id and rank\n",
        "  results_dfr = es.search(index=index_name_dfr, body=query_body, explain=False)\n",
        "  plain_results_dfr = [(x['_source']['title'], x['_score']) for x in results['hits']['hits']]\n",
        "  return results_dfr, plain_results_dfr"
      ],
      "metadata": {
        "id": "ObEiyU76FOR8"
      },
      "execution_count": 30,
      "outputs": []
    },
    {
      "cell_type": "markdown",
      "source": [
        "###Defining query body for BM25 and calling the search function with this query_body\n",
        "\n",
        "###Getting the input from user, which eventually will be the processed and filtered query"
      ],
      "metadata": {
        "id": "h8zXHz9POwgf"
      }
    },
    {
      "cell_type": "code",
      "source": [
        "query_body = {\n",
        "  \"query\": {\n",
        "    \"match\": {\n",
        "        \"body\": input(\"Enter the query\")\n",
        "      }\n",
        "    }\n",
        "  }\n",
        "results, plain_results_bm25 = search(index_name, query_body)\n",
        "plain_results_bm25"
      ],
      "metadata": {
        "colab": {
          "base_uri": "https://localhost:8080/"
        },
        "id": "XJPL2O1Vrvxf",
        "outputId": "a4fe4d78-296c-4a34-977e-77e2e2fed7e3"
      },
      "execution_count": 39,
      "outputs": [
        {
          "name": "stdout",
          "output_type": "stream",
          "text": [
            "Enter the queryabrogate irrecoverable roadblocks reinvested thirtieth presumes posited partys obtrusive undoes lunchroom longterm newlyfloated irreconcilability creche inferentially decongestion wellrecognized stimulating dictionaries restroom relocation rationalization incongruity transitional concentration constructs investing supersede livestock omit incurs congestion favouring relieving sway introduces enure undivided library poultry canteen poses owning repeals attributing constructing manifested window utilize insert obiter dicta shifting postulate incuriam recreational exports expires hazards fulfilment conceivable utilization repealing textual supersession detract redundant presents debts shifts inadvertence decidendi selfsame enacts declaratory deducting superseded appropriated utilised\n"
          ]
        },
        {
          "output_type": "execute_result",
          "data": {
            "text/plain": [
              "[('prior_case_0972.txt', 70.714516),\n",
              " ('prior_case_0131.txt', 43.986588),\n",
              " ('prior_case_1612.txt', 40.44661),\n",
              " ('prior_case_1659.txt', 37.371014),\n",
              " ('prior_case_0099.txt', 37.363853),\n",
              " ('prior_case_1003.txt', 37.001842),\n",
              " ('prior_case_1037.txt', 33.191666),\n",
              " ('prior_case_1240.txt', 32.109276),\n",
              " ('prior_case_1604.txt', 31.270605),\n",
              " ('prior_case_0808.txt', 30.416868)]"
            ]
          },
          "metadata": {},
          "execution_count": 39
        }
      ]
    },
    {
      "cell_type": "markdown",
      "source": [
        "###Here, we have defined query body and called the search function for DFR model implementation\n",
        "\n",
        "###Here query is passed as string, which is processed and filtered query copied from the Query processing notebook"
      ],
      "metadata": {
        "id": "P0p5B9ltPV2t"
      }
    },
    {
      "cell_type": "code",
      "source": [
        "query_body_dfr = {\n",
        "    \"query\":{\n",
        "        \"match\": {\n",
        "            \"body\":  \"abrogate irrecoverable roadblocks reinvested thirtieth presumes posited partys obtrusive undoes lunchroom longterm newlyfloated irreconcilability creche inferentially decongestion wellrecognized stimulating dictionaries restroom relocation rationalization incongruity transitional concentration constructs investing supersede livestock omit incurs congestion favouring relieving sway introduces enure undivided library poultry canteen poses owning repeals attributing constructing manifested window utilize insert obiter dicta shifting postulate incuriam recreational exports expires hazards fulfilment conceivable utilization repealing textual supersession detract redundant presents debts shifts inadvertence decidendi selfsame enacts declaratory deducting superseded appropriated utilised construct pollution incentive glaring assessees hereto delete earning earned facilitating advances missed municipality embark column omitting oversight whilst purchases nugatory\"\n",
        "        }\n",
        "    }\n",
        "}\n",
        "results, plain_results_dfr = search(index_name_dfr, query_body_dfr)\n",
        "plain_results_dfr"
      ],
      "metadata": {
        "colab": {
          "base_uri": "https://localhost:8080/"
        },
        "id": "rPd-UKI5Fmzd",
        "outputId": "1dc6915e-51e7-4582-8373-78ec73aef44e"
      },
      "execution_count": 40,
      "outputs": [
        {
          "output_type": "execute_result",
          "data": {
            "text/plain": [
              "[('prior_case_0972.txt', 57.524017),\n",
              " ('prior_case_0131.txt', 44.6589),\n",
              " ('prior_case_1593.txt', 42.77276),\n",
              " ('prior_case_1604.txt', 41.839493),\n",
              " ('prior_case_1667.txt', 37.597076),\n",
              " ('prior_case_0890.txt', 37.380245),\n",
              " ('prior_case_1239.txt', 36.917564),\n",
              " ('prior_case_1151.txt', 36.789234),\n",
              " ('prior_case_0111.txt', 36.589836),\n",
              " ('prior_case_1567.txt', 36.33386)]"
            ]
          },
          "metadata": {},
          "execution_count": 40
        }
      ]
    },
    {
      "cell_type": "markdown",
      "source": [
        "#Evaluation"
      ],
      "metadata": {
        "id": "R9dkljnZQNBp"
      }
    },
    {
      "cell_type": "markdown",
      "source": [
        "###Reading the qrel file for the Evaluation"
      ],
      "metadata": {
        "id": "5pQsrKdjQGAx"
      }
    },
    {
      "cell_type": "code",
      "source": [
        "f = open(\"qrel.txt\", \"r\")\n",
        "q_rel = f. read()\n",
        "qrel = q_rel.split(\"\\n\")\n",
        "f. close()"
      ],
      "metadata": {
        "id": "q5QbR_veJZW4"
      },
      "execution_count": 34,
      "outputs": []
    },
    {
      "cell_type": "markdown",
      "source": [
        "###Creating a dictionary with query document as key and all relevant documents as values for that particular query document"
      ],
      "metadata": {
        "id": "QLk4zlbVRk5s"
      }
    },
    {
      "cell_type": "code",
      "source": [
        "from collections import defaultdict\n",
        "qrel_dict = defaultdict(list)\n",
        "for doc in qrel:\n",
        "  try:\n",
        "    query_id=doc.split(\" \")[0]\n",
        "    doc_id=doc.split(\" \")[2]\n",
        "    qrel_dict[query_id].append(doc_id)\n",
        "  except:\n",
        "    pass\n",
        "print(qrel_dict)"
      ],
      "metadata": {
        "colab": {
          "base_uri": "https://localhost:8080/"
        },
        "id": "GkxVR8py7l8k",
        "outputId": "12c72bed-f05a-4ba3-b8e0-a9af8e1b3205"
      },
      "execution_count": 35,
      "outputs": [
        {
          "output_type": "stream",
          "name": "stdout",
          "text": [
            "defaultdict(<class 'list'>, {'current_case_0051': ['prior_case_1593', 'prior_case_0895', 'prior_case_1463', 'prior_case_1612', 'prior_case_1644'], 'current_case_0184': ['prior_case_1282', 'prior_case_0317', 'prior_case_0639', 'prior_case_0735', 'prior_case_0343'], 'current_case_0160': ['prior_case_0599', 'prior_case_0277', 'prior_case_1042', 'prior_case_0634', 'prior_case_1133'], 'current_case_0142': ['prior_case_0688', 'prior_case_1296', 'prior_case_0413', 'prior_case_1227', 'prior_case_0327'], 'current_case_0166': ['prior_case_1131', 'prior_case_1566', 'prior_case_0649', 'prior_case_1331', 'prior_case_1515'], 'current_case_0035': ['prior_case_0646', 'prior_case_0133', 'prior_case_1225', 'prior_case_0428', 'prior_case_1284'], 'current_case_0061': ['prior_case_0114', 'prior_case_0881', 'prior_case_1205', 'prior_case_0627', 'prior_case_0445'], 'current_case_0121': ['prior_case_0408', 'prior_case_0603', 'prior_case_0409', 'prior_case_1482', 'prior_case_1804'], 'current_case_0078': ['prior_case_0155', 'prior_case_0483', 'prior_case_1500', 'prior_case_0565', 'prior_case_0726'], 'current_case_0158': ['prior_case_0274', 'prior_case_0047', 'prior_case_0188', 'prior_case_0428', 'prior_case_0659'], 'current_case_0141': ['prior_case_0202', 'prior_case_0976', 'prior_case_0441', 'prior_case_1781', 'prior_case_0796'], 'current_case_0063': ['prior_case_0847', 'prior_case_1649', 'prior_case_1224', 'prior_case_1012', 'prior_case_0604'], 'current_case_0149': ['prior_case_1165', 'prior_case_1827', 'prior_case_0625', 'prior_case_1278', 'prior_case_0075'], 'current_case_0134': ['prior_case_0408', 'prior_case_1388', 'prior_case_1682', 'prior_case_0744', 'prior_case_0022'], 'current_case_0037': ['prior_case_1558', 'prior_case_0932', 'prior_case_0468', 'prior_case_0100', 'prior_case_0640'], 'current_case_0107': ['prior_case_0280', 'prior_case_0635', 'prior_case_1950', 'prior_case_1552', 'prior_case_0209'], 'current_case_0167': ['prior_case_0600', 'prior_case_0927', 'prior_case_0402', 'prior_case_1254', 'prior_case_0856'], 'current_case_0059': ['prior_case_1526', 'prior_case_0107', 'prior_case_1394', 'prior_case_0981', 'prior_case_0161'], 'current_case_0071': ['prior_case_1125', 'prior_case_0766', 'prior_case_1031', 'prior_case_1074', 'prior_case_0647'], 'current_case_0060': ['prior_case_0267', 'prior_case_1204', 'prior_case_1013', 'prior_case_1096', 'prior_case_0982'], 'current_case_0023': ['prior_case_0943', 'prior_case_1994', 'prior_case_1927', 'prior_case_1948', 'prior_case_1627'], 'current_case_0114': ['prior_case_1206', 'prior_case_0947', 'prior_case_0135', 'prior_case_0340', 'prior_case_0519'], 'current_case_0155': ['prior_case_1471', 'prior_case_0234', 'prior_case_0795', 'prior_case_0319', 'prior_case_0810'], 'current_case_0196': ['prior_case_0937', 'prior_case_0957', 'prior_case_1070', 'prior_case_0183', 'prior_case_1696'], 'current_case_0147': ['prior_case_1071', 'prior_case_1441', 'prior_case_1763', 'prior_case_1347', 'prior_case_0711'], 'current_case_0174': ['prior_case_1289', 'prior_case_0876', 'prior_case_1095', 'prior_case_1573', 'prior_case_0125'], 'current_case_0027': ['prior_case_0688', 'prior_case_1296', 'prior_case_1522', 'prior_case_0794', 'prior_case_1186'], 'current_case_0159': ['prior_case_0661', 'prior_case_0237', 'prior_case_0503', 'prior_case_0639', 'prior_case_0172'], 'current_case_0101': ['prior_case_0397', 'prior_case_1534', 'prior_case_1820', 'prior_case_1320', 'prior_case_1999'], 'current_case_0105': ['prior_case_1527', 'prior_case_1338', 'prior_case_1833', 'prior_case_1275', 'prior_case_1543'], 'current_case_0172': ['prior_case_0934', 'prior_case_1135', 'prior_case_0189', 'prior_case_1179', 'prior_case_1435'], 'current_case_0123': ['prior_case_0027', 'prior_case_1987', 'prior_case_1577', 'prior_case_1660', 'prior_case_1750'], 'current_case_0119': ['prior_case_0025', 'prior_case_0205', 'prior_case_1656', 'prior_case_1480', 'prior_case_1463'], 'current_case_0118': ['prior_case_0841', 'prior_case_1986', 'prior_case_1919', 'prior_case_0403', 'prior_case_0172'], 'current_case_0093': ['prior_case_0947', 'prior_case_0135', 'prior_case_0478', 'prior_case_0484', 'prior_case_0519'], 'current_case_0113': ['prior_case_0034', 'prior_case_1272', 'prior_case_0195', 'prior_case_1973', 'prior_case_1814'], 'current_case_0199': ['prior_case_0565', 'prior_case_0582', 'prior_case_1170', 'prior_case_0604', 'prior_case_0203'], 'current_case_0183': ['prior_case_1659', 'prior_case_0131', 'prior_case_0008', 'prior_case_0822', 'prior_case_0972'], 'current_case_0066': ['prior_case_0522', 'prior_case_0369', 'prior_case_1588', 'prior_case_0882', 'prior_case_0871'], 'current_case_0146': ['prior_case_0223', 'prior_case_1815', 'prior_case_0465', 'prior_case_1012', 'prior_case_0548'], 'current_case_0120': ['prior_case_0614', 'prior_case_1672', 'prior_case_1861', 'prior_case_1819', 'prior_case_0554'], 'current_case_0091': ['prior_case_0066', 'prior_case_0308', 'prior_case_0925', 'prior_case_0313', 'prior_case_1356'], 'current_case_0162': ['prior_case_0492', 'prior_case_1744', 'prior_case_1105', 'prior_case_0708', 'prior_case_0825'], 'current_case_0154': ['prior_case_1124', 'prior_case_0337', 'prior_case_1269', 'prior_case_0961', 'prior_case_0200'], 'current_case_0025': ['prior_case_1670', 'prior_case_0816', 'prior_case_0186', 'prior_case_1427', 'prior_case_1706'], 'current_case_0044': ['prior_case_0537', 'prior_case_1964', 'prior_case_0626', 'prior_case_0866', 'prior_case_0392'], 'current_case_0117': ['prior_case_1561', 'prior_case_1810', 'prior_case_0156', 'prior_case_1354', 'prior_case_1450'], 'current_case_0115': ['prior_case_1592', 'prior_case_1987', 'prior_case_0027', 'prior_case_0072', 'prior_case_0823'], 'current_case_0084': ['prior_case_1554', 'prior_case_1801', 'prior_case_1663', 'prior_case_0198', 'prior_case_1863'], 'current_case_0065': ['prior_case_1554', 'prior_case_1801', 'prior_case_1663', 'prior_case_0198', 'prior_case_1863'], 'current_case_0054': ['prior_case_1606', 'prior_case_1789', 'prior_case_1324', 'prior_case_0805', 'prior_case_0266'], 'current_case_0072': ['prior_case_0078', 'prior_case_1433', 'prior_case_1855', 'prior_case_0222', 'prior_case_0510'], 'current_case_0073': ['prior_case_0606', 'prior_case_0052', 'prior_case_1992', 'prior_case_1279', 'prior_case_1114'], 'current_case_0082': ['prior_case_0124', 'prior_case_0723', 'prior_case_1228', 'prior_case_1605', 'prior_case_0417'], 'current_case_0095': ['prior_case_1853', 'prior_case_1987', 'prior_case_1577', 'prior_case_1660', 'prior_case_1750'], 'current_case_0138': ['prior_case_1312', 'prior_case_1273', 'prior_case_0073', 'prior_case_1405', 'prior_case_1547'], 'current_case_0140': ['prior_case_0299', 'prior_case_0433', 'prior_case_1433', 'prior_case_1947', 'prior_case_0912'], 'current_case_0081': ['prior_case_0683', 'prior_case_1935', 'prior_case_1083', 'prior_case_0811', 'prior_case_1178'], 'current_case_0005': ['prior_case_0228', 'prior_case_0964', 'prior_case_1559', 'prior_case_1726', 'prior_case_1236'], 'current_case_0116': ['prior_case_1006', 'prior_case_1181', 'prior_case_1715', 'prior_case_1533', 'prior_case_0548'], 'current_case_0148': ['prior_case_0537', 'prior_case_0888', 'prior_case_0321', 'prior_case_0971', 'prior_case_0866'], 'current_case_0056': ['prior_case_1037', 'prior_case_0865', 'prior_case_1437', 'prior_case_1917', 'prior_case_0809'], 'current_case_0157': ['prior_case_0990', 'prior_case_0311', 'prior_case_1196', 'prior_case_1339', 'prior_case_1905'], 'current_case_0180': ['prior_case_1681', 'prior_case_1714', 'prior_case_1197', 'prior_case_1854', 'prior_case_1268'], 'current_case_0195': ['prior_case_0427', 'prior_case_0061', 'prior_case_0346', 'prior_case_1235', 'prior_case_1907'], 'current_case_0137': ['prior_case_1880', 'prior_case_0509', 'prior_case_0837', 'prior_case_1528', 'prior_case_1957'], 'current_case_0190': ['prior_case_0081', 'prior_case_0474', 'prior_case_0620', 'prior_case_0588', 'prior_case_0285'], 'current_case_0018': ['prior_case_1489', 'prior_case_0002', 'prior_case_1690', 'prior_case_1745', 'prior_case_1727'], 'current_case_0131': ['prior_case_1765', 'prior_case_0571', 'prior_case_0086', 'prior_case_0664', 'prior_case_1960'], 'current_case_0024': ['prior_case_1953', 'prior_case_0827', 'prior_case_0703', 'prior_case_1653', 'prior_case_0172'], 'current_case_0136': ['prior_case_0966', 'prior_case_0400', 'prior_case_1608', 'prior_case_1055', 'prior_case_0122'], 'current_case_0133': ['prior_case_1067', 'prior_case_0345', 'prior_case_1563', 'prior_case_1586', 'prior_case_1490'], 'current_case_0022': ['prior_case_0933', 'prior_case_0730', 'prior_case_0676', 'prior_case_1897', 'prior_case_1859'], 'current_case_0076': ['prior_case_0710', 'prior_case_1049', 'prior_case_0929', 'prior_case_0156', 'prior_case_0590'], 'current_case_0179': ['prior_case_1510', 'prior_case_0534', 'prior_case_1380', 'prior_case_0909', 'prior_case_0438'], 'current_case_0181': ['prior_case_1488', 'prior_case_0260', 'prior_case_1752', 'prior_case_0583', 'prior_case_0788'], 'current_case_0192': ['prior_case_0089', 'prior_case_0132', 'prior_case_0839', 'prior_case_1812', 'prior_case_1422'], 'current_case_0086': ['prior_case_0868', 'prior_case_1449', 'prior_case_0367', 'prior_case_0790', 'prior_case_0756'], 'current_case_0191': ['prior_case_0523', 'prior_case_0542', 'prior_case_1210', 'prior_case_1976', 'prior_case_0922'], 'current_case_0177': ['prior_case_1936', 'prior_case_0812', 'prior_case_1386', 'prior_case_1789', 'prior_case_1265'], 'current_case_0013': ['prior_case_0629', 'prior_case_1133', 'prior_case_1035', 'prior_case_0324', 'prior_case_1615'], 'current_case_0001': ['prior_case_0801', 'prior_case_0780', 'prior_case_0442', 'prior_case_0272', 'prior_case_1256'], 'current_case_0186': ['prior_case_0023', 'prior_case_1430', 'prior_case_0418', 'prior_case_1387', 'prior_case_0706'], 'current_case_0020': ['prior_case_1835', 'prior_case_1014', 'prior_case_1298', 'prior_case_1001', 'prior_case_1538'], 'current_case_0097': ['prior_case_1702', 'prior_case_1378', 'prior_case_0887', 'prior_case_1010', 'prior_case_1940'], 'current_case_0003': ['prior_case_0414', 'prior_case_0289', 'prior_case_1417', 'prior_case_0916', 'prior_case_1975'], 'current_case_0016': ['prior_case_1518', 'prior_case_0807', 'prior_case_1920', 'prior_case_0111', 'prior_case_1784'], 'current_case_0077': ['prior_case_0383', 'prior_case_1928', 'prior_case_0290', 'prior_case_1949', 'prior_case_1536'], 'current_case_0034': ['prior_case_0515', 'prior_case_0436', 'prior_case_0218', 'prior_case_1548', 'prior_case_1908'], 'current_case_0079': ['prior_case_0386', 'prior_case_0135', 'prior_case_0046', 'prior_case_0484', 'prior_case_1517'], 'current_case_0031': ['prior_case_1140', 'prior_case_0077', 'prior_case_1730', 'prior_case_1757', 'prior_case_0823'], 'current_case_0104': ['prior_case_1987', 'prior_case_0278', 'prior_case_1577', 'prior_case_1660', 'prior_case_1750'], 'current_case_0068': ['prior_case_0121', 'prior_case_0467', 'prior_case_1568', 'prior_case_1896', 'prior_case_1952'], 'current_case_0112': ['prior_case_0225', 'prior_case_0841', 'prior_case_0924', 'prior_case_0116', 'prior_case_1739'], 'current_case_0083': ['prior_case_0314', 'prior_case_0609', 'prior_case_1575', 'prior_case_0491', 'prior_case_0148'], 'current_case_0040': ['prior_case_1497', 'prior_case_0093', 'prior_case_1458', 'prior_case_1234', 'prior_case_1372'], 'current_case_0069': ['prior_case_1028', 'prior_case_1873', 'prior_case_1215', 'prior_case_0860', 'prior_case_1214'], 'current_case_0164': ['prior_case_0538', 'prior_case_1481', 'prior_case_0973', 'prior_case_1788', 'prior_case_1594'], 'current_case_0132': ['prior_case_0440', 'prior_case_0048', 'prior_case_1671', 'prior_case_0204', 'prior_case_0268'], 'current_case_0030': ['prior_case_0047', 'prior_case_0141', 'prior_case_0428', 'prior_case_0768', 'prior_case_0659'], 'current_case_0108': ['prior_case_0868', 'prior_case_1268', 'prior_case_1852', 'prior_case_1076', 'prior_case_0616'], 'current_case_0088': ['prior_case_0700', 'prior_case_1941', 'prior_case_1290', 'prior_case_1599', 'prior_case_0576'], 'current_case_0122': ['prior_case_0188', 'prior_case_0768', 'prior_case_0711', 'prior_case_1577', 'prior_case_1660'], 'current_case_0053': ['prior_case_1428', 'prior_case_1965', 'prior_case_0417', 'prior_case_0507', 'prior_case_1243'], 'current_case_0087': ['prior_case_1651', 'prior_case_1830', 'prior_case_1123', 'prior_case_1191', 'prior_case_1552'], 'current_case_0019': ['prior_case_0354', 'prior_case_0189', 'prior_case_1179', 'prior_case_1435', 'prior_case_0799'], 'current_case_0012': ['prior_case_0804', 'prior_case_1951', 'prior_case_1776', 'prior_case_0842', 'prior_case_0656'], 'current_case_0170': ['prior_case_0075', 'prior_case_0567', 'prior_case_0111', 'prior_case_0625', 'prior_case_1100'], 'current_case_0099': ['prior_case_0456', 'prior_case_0912', 'prior_case_0624', 'prior_case_0484', 'prior_case_0652'], 'current_case_0178': ['prior_case_0486', 'prior_case_0331', 'prior_case_1724', 'prior_case_0869', 'prior_case_0899'], 'current_case_0171': ['prior_case_1562', 'prior_case_1157', 'prior_case_1602', 'prior_case_0111', 'prior_case_0566'], 'current_case_0011': ['prior_case_0069', 'prior_case_0464', 'prior_case_1914', 'prior_case_0893', 'prior_case_1881'], 'current_case_0145': ['prior_case_0220', 'prior_case_0190', 'prior_case_1224', 'prior_case_1086', 'prior_case_0630'], 'current_case_0169': ['prior_case_1139', 'prior_case_0309', 'prior_case_0782', 'prior_case_0539', 'prior_case_0333'], 'current_case_0085': ['prior_case_1496', 'prior_case_0202', 'prior_case_0377', 'prior_case_0758', 'prior_case_1503'], 'current_case_0144': ['prior_case_1689', 'prior_case_1468', 'prior_case_1524', 'prior_case_1098', 'prior_case_1264'], 'current_case_0036': ['prior_case_1365', 'prior_case_0913', 'prior_case_0057', 'prior_case_0115', 'prior_case_1171'], 'current_case_0064': ['prior_case_1459', 'prior_case_1161', 'prior_case_1030', 'prior_case_1576', 'prior_case_1542'], 'current_case_0143': ['prior_case_1146', 'prior_case_1448', 'prior_case_1559', 'prior_case_0964', 'prior_case_1838'], 'current_case_0109': ['prior_case_1485', 'prior_case_0294', 'prior_case_1314', 'prior_case_1212', 'prior_case_0420'], 'current_case_0041': ['prior_case_1612', 'prior_case_1951', 'prior_case_0796', 'prior_case_0976', 'prior_case_0145'], 'current_case_0050': ['prior_case_1340', 'prior_case_1313', 'prior_case_1019', 'prior_case_0235', 'prior_case_0362'], 'current_case_0043': ['prior_case_1036', 'prior_case_1983', 'prior_case_1487', 'prior_case_0665', 'prior_case_1568'], 'current_case_0075': ['prior_case_1635', 'prior_case_0301', 'prior_case_1716', 'prior_case_0222', 'prior_case_1012'], 'current_case_0152': ['prior_case_0431', 'prior_case_1624', 'prior_case_1260', 'prior_case_1627', 'prior_case_1143'], 'current_case_0163': ['prior_case_0440', 'prior_case_0048', 'prior_case_1671', 'prior_case_0204', 'prior_case_0268'], 'current_case_0090': ['prior_case_1709', 'prior_case_1312', 'prior_case_1050', 'prior_case_1249', 'prior_case_1194'], 'current_case_0080': ['prior_case_0710', 'prior_case_0357', 'prior_case_0929', 'prior_case_0156', 'prior_case_1675'], 'current_case_0175': ['prior_case_1477', 'prior_case_0724', 'prior_case_1387', 'prior_case_0365', 'prior_case_1904'], 'current_case_0038': ['prior_case_1926', 'prior_case_0547', 'prior_case_0760', 'prior_case_0406', 'prior_case_0295'], 'current_case_0049': ['prior_case_1366', 'prior_case_1276', 'prior_case_0572', 'prior_case_1202', 'prior_case_1740'], 'current_case_0168': ['prior_case_0393', 'prior_case_0688', 'prior_case_1296', 'prior_case_1358', 'prior_case_1249'], 'current_case_0042': ['prior_case_1481', 'prior_case_0724', 'prior_case_0117', 'prior_case_1228', 'prior_case_0512'], 'current_case_0033': ['prior_case_0557', 'prior_case_0014', 'prior_case_1460', 'prior_case_1794', 'prior_case_0775'], 'current_case_0127': ['prior_case_0364', 'prior_case_0304', 'prior_case_0300', 'prior_case_1811', 'prior_case_1158'], 'current_case_0008': ['prior_case_0278', 'prior_case_1987', 'prior_case_1577', 'prior_case_1660', 'prior_case_1750'], 'current_case_0039': ['prior_case_1925', 'prior_case_1691', 'prior_case_1866', 'prior_case_0132', 'prior_case_0753'], 'current_case_0125': ['prior_case_1006', 'prior_case_1128', 'prior_case_0233', 'prior_case_1532', 'prior_case_1391'], 'current_case_0188': ['prior_case_0672', 'prior_case_0276', 'prior_case_1987', 'prior_case_0659', 'prior_case_0652'], 'current_case_0062': ['prior_case_0141', 'prior_case_0659', 'prior_case_1329', 'prior_case_0768', 'prior_case_0428'], 'current_case_0048': ['prior_case_1905', 'prior_case_1604', 'prior_case_0288', 'prior_case_0493', 'prior_case_1315'], 'current_case_0153': ['prior_case_0453', 'prior_case_1332', 'prior_case_1372', 'prior_case_1791', 'prior_case_0654'], 'current_case_0015': ['prior_case_0763', 'prior_case_0067', 'prior_case_1703', 'prior_case_0360', 'prior_case_0026'], 'current_case_0026': ['prior_case_1957', 'prior_case_1133', 'prior_case_0981', 'prior_case_1048', 'prior_case_1972'], 'current_case_0111': ['prior_case_1238', 'prior_case_0889', 'prior_case_0325', 'prior_case_0361', 'prior_case_0509'], 'current_case_0194': ['prior_case_1467', 'prior_case_1625', 'prior_case_0732', 'prior_case_1598', 'prior_case_1084'], 'current_case_0010': ['prior_case_0658', 'prior_case_1715', 'prior_case_0101', 'prior_case_0055', 'prior_case_0593'], 'current_case_0200': ['prior_case_0440', 'prior_case_0048', 'prior_case_1671', 'prior_case_0204', 'prior_case_0268'], 'current_case_0102': ['prior_case_1638', 'prior_case_1826', 'prior_case_1342', 'prior_case_0343', 'prior_case_0064'], 'current_case_0165': ['prior_case_1368', 'prior_case_1215', 'prior_case_0625', 'prior_case_1665', 'prior_case_0150'], 'current_case_0189': ['prior_case_0868', 'prior_case_1375', 'prior_case_1980', 'prior_case_0488', 'prior_case_0796'], 'current_case_0007': ['prior_case_0082', 'prior_case_1669', 'prior_case_1664', 'prior_case_0346', 'prior_case_1849'], 'current_case_0185': ['prior_case_1910', 'prior_case_1221', 'prior_case_1701', 'prior_case_1203', 'prior_case_0169'], 'current_case_0070': ['prior_case_1691', 'prior_case_0446', 'prior_case_1325', 'prior_case_1680', 'prior_case_1633'], 'current_case_0198': ['prior_case_0040', 'prior_case_1748', 'prior_case_0170', 'prior_case_1620', 'prior_case_0646'], 'current_case_0057': ['prior_case_1623', 'prior_case_1938', 'prior_case_1787', 'prior_case_0401', 'prior_case_1221'], 'current_case_0047': ['prior_case_1491', 'prior_case_0942', 'prior_case_1267', 'prior_case_1722', 'prior_case_0500'], 'current_case_0046': ['prior_case_1902', 'prior_case_0506', 'prior_case_1453', 'prior_case_0384', 'prior_case_1202'], 'current_case_0074': ['prior_case_0858', 'prior_case_1014', 'prior_case_1016', 'prior_case_1795', 'prior_case_0677'], 'current_case_0100': ['prior_case_1979', 'prior_case_0197', 'prior_case_0102', 'prior_case_0301', 'prior_case_1824'], 'current_case_0182': ['prior_case_1514', 'prior_case_0154', 'prior_case_0980', 'prior_case_0118', 'prior_case_1088'], 'current_case_0004': ['prior_case_1044', 'prior_case_0516', 'prior_case_0051', 'prior_case_1026', 'prior_case_1407'], 'current_case_0098': ['prior_case_0206', 'prior_case_1315', 'prior_case_0933', 'prior_case_0780', 'prior_case_0403'], 'current_case_0103': ['prior_case_1467', 'prior_case_1625', 'prior_case_0732', 'prior_case_1598', 'prior_case_1084'], 'current_case_0067': ['prior_case_0821', 'prior_case_1827', 'prior_case_0126', 'prior_case_0589', 'prior_case_0505'], 'current_case_0106': ['prior_case_1192', 'prior_case_1890', 'prior_case_1861', 'prior_case_1475', 'prior_case_1099'], 'current_case_0017': ['prior_case_0742', 'prior_case_0210', 'prior_case_0477', 'prior_case_0827', 'prior_case_1137'], 'current_case_0089': ['prior_case_0488', 'prior_case_0202', 'prior_case_1126', 'prior_case_0377', 'prior_case_1013'], 'current_case_0014': ['prior_case_0710', 'prior_case_0452', 'prior_case_1675', 'prior_case_0085', 'prior_case_0590'], 'current_case_0052': ['prior_case_0488', 'prior_case_0202', 'prior_case_1126', 'prior_case_0377', 'prior_case_1013'], 'current_case_0032': ['prior_case_0170', 'prior_case_1620', 'prior_case_0915', 'prior_case_0040', 'prior_case_0035'], 'current_case_0130': ['prior_case_1062', 'prior_case_0745', 'prior_case_1676', 'prior_case_0010', 'prior_case_0207'], 'current_case_0156': ['prior_case_1817', 'prior_case_0528', 'prior_case_1650', 'prior_case_0905', 'prior_case_1717'], 'current_case_0124': ['prior_case_1375', 'prior_case_1603', 'prior_case_1580', 'prior_case_1583', 'prior_case_1115'], 'current_case_0006': ['prior_case_0564', 'prior_case_1003', 'prior_case_1151', 'prior_case_0406', 'prior_case_0466'], 'current_case_0045': ['prior_case_0330', 'prior_case_0042', 'prior_case_0185', 'prior_case_1424', 'prior_case_0242'], 'current_case_0029': ['prior_case_0282', 'prior_case_0041', 'prior_case_0275', 'prior_case_0104', 'prior_case_1401'], 'current_case_0128': ['prior_case_1366', 'prior_case_0226', 'prior_case_1351', 'prior_case_1961', 'prior_case_0147'], 'current_case_0176': ['prior_case_1987', 'prior_case_1591', 'prior_case_1576', 'prior_case_1977', 'prior_case_0853'], 'current_case_0129': ['prior_case_1583', 'prior_case_1581', 'prior_case_0157', 'prior_case_0098', 'prior_case_1185'], 'current_case_0173': ['prior_case_0803', 'prior_case_1281', 'prior_case_1133', 'prior_case_1841', 'prior_case_1596'], 'current_case_0096': ['prior_case_0264', 'prior_case_0873', 'prior_case_1869', 'prior_case_0997', 'prior_case_1465'], 'current_case_0028': ['prior_case_1604', 'prior_case_0694', 'prior_case_0332', 'prior_case_1239', 'prior_case_0387'], 'current_case_0110': ['prior_case_0734', 'prior_case_1241', 'prior_case_0097', 'prior_case_0340', 'prior_case_0316'], 'current_case_0002': ['prior_case_1409', 'prior_case_1074', 'prior_case_1387', 'prior_case_1212', 'prior_case_0113'], 'current_case_0126': ['prior_case_1160', 'prior_case_0068', 'prior_case_1330', 'prior_case_0262', 'prior_case_0776'], 'current_case_0058': ['prior_case_0649', 'prior_case_0017', 'prior_case_0555', 'prior_case_0060', 'prior_case_1515'], 'current_case_0135': ['prior_case_0244', 'prior_case_1954', 'prior_case_1775', 'prior_case_0277', 'prior_case_0566'], 'current_case_0139': ['prior_case_0349', 'prior_case_0498', 'prior_case_1640', 'prior_case_1587', 'prior_case_1501'], 'current_case_0094': ['prior_case_1957', 'prior_case_0846', 'prior_case_0076', 'prior_case_0389', 'prior_case_0113'], 'current_case_0187': ['prior_case_1164', 'prior_case_1396', 'prior_case_1277', 'prior_case_1858', 'prior_case_0984'], 'current_case_0150': ['prior_case_1395', 'prior_case_0644', 'prior_case_1051', 'prior_case_0379', 'prior_case_0315'], 'current_case_0055': ['prior_case_0020', 'prior_case_0023', 'prior_case_1143', 'prior_case_1122', 'prior_case_0783'], 'current_case_0092': ['prior_case_1785', 'prior_case_1887', 'prior_case_0784', 'prior_case_1385', 'prior_case_1809'], 'current_case_0009': ['prior_case_0868', 'prior_case_1102', 'prior_case_1685', 'prior_case_0202', 'prior_case_0884'], 'current_case_0197': ['prior_case_1125', 'prior_case_1047', 'prior_case_1149', 'prior_case_1965', 'prior_case_1100'], 'current_case_0193': ['prior_case_1094', 'prior_case_0356', 'prior_case_0504', 'prior_case_0410', 'prior_case_0574'], 'current_case_0021': ['prior_case_1627', 'prior_case_1957', 'prior_case_0482', 'prior_case_1133', 'prior_case_0749'], 'current_case_0161': ['prior_case_0848', 'prior_case_1132', 'prior_case_1262', 'prior_case_1585', 'prior_case_0036'], 'current_case_0151': ['prior_case_1923', 'prior_case_0846', 'prior_case_0076', 'prior_case_0886', 'prior_case_1133']})\n"
          ]
        }
      ]
    },
    {
      "cell_type": "markdown",
      "source": [
        "###Getting the relevant documents for a query in a list"
      ],
      "metadata": {
        "id": "rhP_P25uTAvB"
      }
    },
    {
      "cell_type": "code",
      "source": [
        "query_id=input(\"Enter query_id\")\n",
        "case_list = qrel_dict[query_id]\n",
        "case_list"
      ],
      "metadata": {
        "colab": {
          "base_uri": "https://localhost:8080/"
        },
        "id": "GvM_zxGQBrIO",
        "outputId": "8c525fac-e2e1-4021-cbaf-cc0371588566"
      },
      "execution_count": 41,
      "outputs": [
        {
          "name": "stdout",
          "output_type": "stream",
          "text": [
            "Enter query_idcurrent_case_0183\n"
          ]
        },
        {
          "output_type": "execute_result",
          "data": {
            "text/plain": [
              "['prior_case_1659',\n",
              " 'prior_case_0131',\n",
              " 'prior_case_0008',\n",
              " 'prior_case_0822',\n",
              " 'prior_case_0972']"
            ]
          },
          "metadata": {},
          "execution_count": 41
        }
      ]
    },
    {
      "cell_type": "markdown",
      "source": [
        "####Defining a function calculate_evaluations which calculates precision, recall and f1 score for both the models. We are taking only the first five documents retrieved as our dataset has five relevant documents for every query."
      ],
      "metadata": {
        "id": "085MRIxJSLmJ"
      }
    },
    {
      "cell_type": "code",
      "source": [
        "def calculate_evaluations(case_list):\n",
        "\n",
        "  retrieved_bm25= [doc[0].split('.')[0] for doc in plain_results_bm25] # take only the document id, rather than score\n",
        "  retrieved_bm25=retrieved_bm25[0:5]\n",
        "  retrieved_dfr= [doc[0].split('.')[0] for doc in plain_results_dfr]\n",
        "  retrieved_dfr=retrieved_dfr[0:5]\n",
        "  TP_bm25=(set(case_list).intersection(set(retrieved_bm25)))\n",
        "  TP_bm25_len = len(TP_bm25)\n",
        "  FP_bm25=set(retrieved_bm25)-TP_bm25\n",
        "  FP_bm25_len=len(FP_bm25)\n",
        "  TP_dfr=(set(case_list).intersection(set(retrieved_dfr)))\n",
        "  TP_dfr_len = len(TP_dfr)\n",
        "  FP_dfr=set(retrieved_dfr)-TP_dfr\n",
        "  FP_dfr_len=len(FP_dfr)\n",
        "  FN_bm25= len(set(case_list)-TP_bm25)\n",
        "  FN_dfr= len(set(case_list)-set(retrieved_dfr))\n",
        " \n",
        "\n",
        "  precision_bm25 = TP_bm25_len / (TP_bm25_len+FP_bm25_len)\n",
        "  precision_dfr = TP_dfr_len / (TP_dfr_len+FP_dfr_len)\n",
        "  recall_bm25=TP_bm25_len/(TP_bm25_len+FN_bm25)\n",
        "  recall_dfr=TP_dfr_len/(TP_dfr_len+FN_dfr)\n",
        "  f1_bm25=2*precision_bm25*recall_bm25 / (precision_bm25+recall_bm25)\n",
        "  f1_dfr=2*precision_dfr*recall_dfr / (precision_dfr+recall_dfr)\n",
        "\n",
        "  return TP_bm25_len,TP_dfr_len,precision_bm25, precision_dfr,recall_bm25,recall_dfr,f1_bm25,f1_dfr"
      ],
      "metadata": {
        "id": "QscOEQS7E_dh"
      },
      "execution_count": 42,
      "outputs": []
    },
    {
      "cell_type": "markdown",
      "source": [
        "##Calling the above function"
      ],
      "metadata": {
        "id": "tP0wfUJBStRk"
      }
    },
    {
      "cell_type": "code",
      "source": [
        "tp_bm25,tp_dfr,p_bm25,p_dfr,r_bm25,r_dfr,f1_bm25,f1_dfr=calculate_evaluations(case_list)\n",
        "print(\"True Positives for BM25:\",tp_bm25,\"\\nPrecion_BM25:\",p_bm25,\"\\nRecall_BM25:\",r_bm25,\"\\nf1_score_BM25:\",f1_bm25)\n",
        "print(\"True positives for DFR\",tp_dfr,\"\\nPrecion_DFR:\",p_dfr,\"\\nRecall_DFR:\",r_dfr,\"\\nf1_score_DFR:\",f1_dfr)\n"
      ],
      "metadata": {
        "colab": {
          "base_uri": "https://localhost:8080/"
        },
        "id": "djrXmMYDIprq",
        "outputId": "d568589a-fa69-4307-b2cb-60a1203a09e9"
      },
      "execution_count": 43,
      "outputs": [
        {
          "output_type": "stream",
          "name": "stdout",
          "text": [
            "True Positives for BM25: 3 \n",
            "Precion_BM25: 0.6 \n",
            "Recall_BM25: 0.6 \n",
            "f1_score_BM25: 0.6\n",
            "True positives for DFR 2 \n",
            "Precion_DFR: 0.4 \n",
            "Recall_DFR: 0.4 \n",
            "f1_score_DFR: 0.4000000000000001\n"
          ]
        }
      ]
    }
  ]
}